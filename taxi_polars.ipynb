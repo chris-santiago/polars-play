{
 "cells": [
  {
   "cell_type": "code",
   "execution_count": 1,
   "id": "56ac1868-b0b6-41a4-900b-fc8dc972ef30",
   "metadata": {},
   "outputs": [],
   "source": [
    "import glob\n",
    "import pathlib\n",
    "\n",
    "import polars as pl"
   ]
  },
  {
   "cell_type": "raw",
   "id": "7fd3af20-fb34-4624-9b91-e26844dc3e27",
   "metadata": {},
   "source": [
    "[\n",
    "    f\"https://d37ci6vzurychx.cloudfront.net/trip-data/yellow_tripdata_20{j}-{i}.parquet\"\n",
    "    if i > 9\n",
    "    else f\"https://d37ci6vzurychx.cloudfront.net/trip-data/yellow_tripdata_20{j}-0{i}.parquet\"\n",
    "    for j in range(19, 23)\n",
    "    for i in range(1, 13)\n",
    "]"
   ]
  },
  {
   "cell_type": "code",
   "execution_count": 31,
   "id": "eb819659-6ee9-4f30-8192-cbf8ad9ed350",
   "metadata": {},
   "outputs": [],
   "source": [
    "files = list(pathlib.Path.home().joinpath('tmp', 'taxi').glob('*.parquet'))"
   ]
  },
  {
   "cell_type": "code",
   "execution_count": 32,
   "id": "99675b03-6b08-47cf-8daa-b5229cafde18",
   "metadata": {},
   "outputs": [
    {
     "name": "stdout",
     "output_type": "stream",
     "text": [
      "CPU times: user 200 μs, sys: 218 μs, total: 418 μs\n",
      "Wall time: 446 μs\n"
     ]
    }
   ],
   "source": [
    "%%time\n",
    "\n",
    "df = pl.scan_parquet(files)"
   ]
  },
  {
   "cell_type": "code",
   "execution_count": 38,
   "id": "9d4d6ae9-8359-487c-a672-6e815191f2a0",
   "metadata": {},
   "outputs": [
    {
     "name": "stdout",
     "output_type": "stream",
     "text": [
      "CPU times: user 595 μs, sys: 442 μs, total: 1.04 ms\n",
      "Wall time: 1.15 ms\n"
     ]
    }
   ],
   "source": [
    "%%time\n",
    "\n",
    "df = pl.concat(\n",
    "    [pl.scan_parquet(file) for file in files]\n",
    ")"
   ]
  },
  {
   "cell_type": "code",
   "execution_count": 39,
   "id": "aa7002c5-ef1f-4941-9780-d49976c3140f",
   "metadata": {},
   "outputs": [
    {
     "name": "stdout",
     "output_type": "stream",
     "text": [
      "CPU times: user 19.7 s, sys: 4.35 s, total: 24 s\n",
      "Wall time: 4.78 s\n"
     ]
    },
    {
     "data": {
      "text/plain": [
       "(179807942, 19)"
      ]
     },
     "execution_count": 39,
     "metadata": {},
     "output_type": "execute_result"
    }
   ],
   "source": [
    "%%time\n",
    "\n",
    "df.collect().shape"
   ]
  },
  {
   "cell_type": "code",
   "execution_count": 40,
   "id": "5d7660b5-06b0-473d-a867-04fe3d88ac2c",
   "metadata": {},
   "outputs": [
    {
     "name": "stdout",
     "output_type": "stream",
     "text": [
      "CPU times: user 19.7 s, sys: 4.06 s, total: 23.7 s\n",
      "Wall time: 4.87 s\n"
     ]
    },
    {
     "data": {
      "text/plain": [
       "24.36149333976209"
      ]
     },
     "execution_count": 40,
     "metadata": {},
     "output_type": "execute_result"
    }
   ],
   "source": [
    "%%time\n",
    "\n",
    "df.collect().estimated_size('gb')"
   ]
  },
  {
   "cell_type": "code",
   "execution_count": 41,
   "id": "d998b3bc-8dcc-447d-a790-b5edfe77f2fa",
   "metadata": {},
   "outputs": [
    {
     "name": "stdout",
     "output_type": "stream",
     "text": [
      "CPU times: user 19.7 s, sys: 3.92 s, total: 23.6 s\n",
      "Wall time: 4.63 s\n"
     ]
    },
    {
     "data": {
      "text/html": [
       "<div><style>\n",
       ".dataframe > thead > tr,\n",
       ".dataframe > tbody > tr {\n",
       "  text-align: right;\n",
       "  white-space: pre-wrap;\n",
       "}\n",
       "</style>\n",
       "<small>shape: (5, 19)</small><table border=\"1\" class=\"dataframe\"><thead><tr><th>VendorID</th><th>tpep_pickup_datetime</th><th>tpep_dropoff_datetime</th><th>passenger_count</th><th>trip_distance</th><th>RatecodeID</th><th>store_and_fwd_flag</th><th>PULocationID</th><th>DOLocationID</th><th>payment_type</th><th>fare_amount</th><th>extra</th><th>mta_tax</th><th>tip_amount</th><th>tolls_amount</th><th>improvement_surcharge</th><th>total_amount</th><th>congestion_surcharge</th><th>airport_fee</th></tr><tr><td>i64</td><td>datetime[ns]</td><td>datetime[ns]</td><td>f64</td><td>f64</td><td>f64</td><td>str</td><td>i64</td><td>i64</td><td>i64</td><td>f64</td><td>f64</td><td>f64</td><td>f64</td><td>f64</td><td>f64</td><td>f64</td><td>f64</td><td>f64</td></tr></thead><tbody><tr><td>1</td><td>2022-10-01 00:03:41</td><td>2022-10-01 00:18:39</td><td>1.0</td><td>1.7</td><td>1.0</td><td>&quot;N&quot;</td><td>249</td><td>107</td><td>1</td><td>9.5</td><td>3.0</td><td>0.5</td><td>2.65</td><td>0.0</td><td>0.3</td><td>15.95</td><td>2.5</td><td>0.0</td></tr><tr><td>2</td><td>2022-10-01 00:14:30</td><td>2022-10-01 00:19:48</td><td>2.0</td><td>0.72</td><td>1.0</td><td>&quot;N&quot;</td><td>151</td><td>238</td><td>2</td><td>5.5</td><td>0.5</td><td>0.5</td><td>0.0</td><td>0.0</td><td>0.3</td><td>9.3</td><td>2.5</td><td>0.0</td></tr><tr><td>2</td><td>2022-10-01 00:27:13</td><td>2022-10-01 00:37:41</td><td>1.0</td><td>1.74</td><td>1.0</td><td>&quot;N&quot;</td><td>238</td><td>166</td><td>1</td><td>9.0</td><td>0.5</td><td>0.5</td><td>2.06</td><td>0.0</td><td>0.3</td><td>12.36</td><td>0.0</td><td>0.0</td></tr><tr><td>1</td><td>2022-10-01 00:32:53</td><td>2022-10-01 00:38:55</td><td>0.0</td><td>1.3</td><td>1.0</td><td>&quot;N&quot;</td><td>142</td><td>239</td><td>1</td><td>6.5</td><td>3.0</td><td>0.5</td><td>2.05</td><td>0.0</td><td>0.3</td><td>12.35</td><td>2.5</td><td>0.0</td></tr><tr><td>1</td><td>2022-10-01 00:44:55</td><td>2022-10-01 00:50:21</td><td>0.0</td><td>1.0</td><td>1.0</td><td>&quot;N&quot;</td><td>238</td><td>166</td><td>1</td><td>6.0</td><td>0.5</td><td>0.5</td><td>1.8</td><td>0.0</td><td>0.3</td><td>9.1</td><td>0.0</td><td>0.0</td></tr></tbody></table></div>"
      ],
      "text/plain": [
       "shape: (5, 19)\n",
       "┌──────────┬───────────┬───────────┬───────────┬───┬───────────┬───────────┬───────────┬───────────┐\n",
       "│ VendorID ┆ tpep_pick ┆ tpep_drop ┆ passenger ┆ … ┆ improveme ┆ total_amo ┆ congestio ┆ airport_f │\n",
       "│ ---      ┆ up_dateti ┆ off_datet ┆ _count    ┆   ┆ nt_surcha ┆ unt       ┆ n_surchar ┆ ee        │\n",
       "│ i64      ┆ me        ┆ ime       ┆ ---       ┆   ┆ rge       ┆ ---       ┆ ge        ┆ ---       │\n",
       "│          ┆ ---       ┆ ---       ┆ f64       ┆   ┆ ---       ┆ f64       ┆ ---       ┆ f64       │\n",
       "│          ┆ datetime[ ┆ datetime[ ┆           ┆   ┆ f64       ┆           ┆ f64       ┆           │\n",
       "│          ┆ ns]       ┆ ns]       ┆           ┆   ┆           ┆           ┆           ┆           │\n",
       "╞══════════╪═══════════╪═══════════╪═══════════╪═══╪═══════════╪═══════════╪═══════════╪═══════════╡\n",
       "│ 1        ┆ 2022-10-0 ┆ 2022-10-0 ┆ 1.0       ┆ … ┆ 0.3       ┆ 15.95     ┆ 2.5       ┆ 0.0       │\n",
       "│          ┆ 1         ┆ 1         ┆           ┆   ┆           ┆           ┆           ┆           │\n",
       "│          ┆ 00:03:41  ┆ 00:18:39  ┆           ┆   ┆           ┆           ┆           ┆           │\n",
       "│ 2        ┆ 2022-10-0 ┆ 2022-10-0 ┆ 2.0       ┆ … ┆ 0.3       ┆ 9.3       ┆ 2.5       ┆ 0.0       │\n",
       "│          ┆ 1         ┆ 1         ┆           ┆   ┆           ┆           ┆           ┆           │\n",
       "│          ┆ 00:14:30  ┆ 00:19:48  ┆           ┆   ┆           ┆           ┆           ┆           │\n",
       "│ 2        ┆ 2022-10-0 ┆ 2022-10-0 ┆ 1.0       ┆ … ┆ 0.3       ┆ 12.36     ┆ 0.0       ┆ 0.0       │\n",
       "│          ┆ 1         ┆ 1         ┆           ┆   ┆           ┆           ┆           ┆           │\n",
       "│          ┆ 00:27:13  ┆ 00:37:41  ┆           ┆   ┆           ┆           ┆           ┆           │\n",
       "│ 1        ┆ 2022-10-0 ┆ 2022-10-0 ┆ 0.0       ┆ … ┆ 0.3       ┆ 12.35     ┆ 2.5       ┆ 0.0       │\n",
       "│          ┆ 1         ┆ 1         ┆           ┆   ┆           ┆           ┆           ┆           │\n",
       "│          ┆ 00:32:53  ┆ 00:38:55  ┆           ┆   ┆           ┆           ┆           ┆           │\n",
       "│ 1        ┆ 2022-10-0 ┆ 2022-10-0 ┆ 0.0       ┆ … ┆ 0.3       ┆ 9.1       ┆ 0.0       ┆ 0.0       │\n",
       "│          ┆ 1         ┆ 1         ┆           ┆   ┆           ┆           ┆           ┆           │\n",
       "│          ┆ 00:44:55  ┆ 00:50:21  ┆           ┆   ┆           ┆           ┆           ┆           │\n",
       "└──────────┴───────────┴───────────┴───────────┴───┴───────────┴───────────┴───────────┴───────────┘"
      ]
     },
     "execution_count": 41,
     "metadata": {},
     "output_type": "execute_result"
    }
   ],
   "source": [
    "%%time\n",
    "\n",
    "df.collect().head()"
   ]
  },
  {
   "cell_type": "code",
   "execution_count": 42,
   "id": "f673d069-22a4-45bc-9e23-819873457ef6",
   "metadata": {},
   "outputs": [
    {
     "name": "stdout",
     "output_type": "stream",
     "text": [
      "CPU times: user 9.7 s, sys: 1.86 s, total: 11.6 s\n",
      "Wall time: 2.35 s\n"
     ]
    },
    {
     "data": {
      "text/html": [
       "<div><style>\n",
       ".dataframe > thead > tr,\n",
       ".dataframe > tbody > tr {\n",
       "  text-align: right;\n",
       "  white-space: pre-wrap;\n",
       "}\n",
       "</style>\n",
       "<small>shape: (264, 4)</small><table border=\"1\" class=\"dataframe\"><thead><tr><th>DOLocationID</th><th>mean_fare</th><th>count</th><th>congestion</th></tr><tr><td>i64</td><td>f64</td><td>u32</td><td>f64</td></tr></thead><tbody><tr><td>236</td><td>9.567141</td><td>7687524</td><td>0.930577</td></tr><tr><td>237</td><td>9.27386</td><td>7242212</td><td>0.941435</td></tr><tr><td>161</td><td>11.019058</td><td>6555290</td><td>0.935838</td></tr><tr><td>170</td><td>10.79023</td><td>5473077</td><td>0.932653</td></tr><tr><td>162</td><td>-15.278814</td><td>5045552</td><td>0.935021</td></tr><tr><td>&hellip;</td><td>&hellip;</td><td>&hellip;</td><td>&hellip;</td></tr><tr><td>2</td><td>40.340785</td><td>242</td><td>0.090909</td></tr><tr><td>105</td><td>16.492748</td><td>131</td><td>0.740458</td></tr><tr><td>199</td><td>12.733333</td><td>15</td><td>0.266667</td></tr><tr><td>110</td><td>63.9375</td><td>8</td><td>0.25</td></tr><tr><td>104</td><td>50.0</td><td>1</td><td>1.0</td></tr></tbody></table></div>"
      ],
      "text/plain": [
       "shape: (264, 4)\n",
       "┌──────────────┬────────────┬─────────┬────────────┐\n",
       "│ DOLocationID ┆ mean_fare  ┆ count   ┆ congestion │\n",
       "│ ---          ┆ ---        ┆ ---     ┆ ---        │\n",
       "│ i64          ┆ f64        ┆ u32     ┆ f64        │\n",
       "╞══════════════╪════════════╪═════════╪════════════╡\n",
       "│ 236          ┆ 9.567141   ┆ 7687524 ┆ 0.930577   │\n",
       "│ 237          ┆ 9.27386    ┆ 7242212 ┆ 0.941435   │\n",
       "│ 161          ┆ 11.019058  ┆ 6555290 ┆ 0.935838   │\n",
       "│ 170          ┆ 10.79023   ┆ 5473077 ┆ 0.932653   │\n",
       "│ 162          ┆ -15.278814 ┆ 5045552 ┆ 0.935021   │\n",
       "│ …            ┆ …          ┆ …       ┆ …          │\n",
       "│ 2            ┆ 40.340785  ┆ 242     ┆ 0.090909   │\n",
       "│ 105          ┆ 16.492748  ┆ 131     ┆ 0.740458   │\n",
       "│ 199          ┆ 12.733333  ┆ 15      ┆ 0.266667   │\n",
       "│ 110          ┆ 63.9375    ┆ 8       ┆ 0.25       │\n",
       "│ 104          ┆ 50.0       ┆ 1       ┆ 1.0        │\n",
       "└──────────────┴────────────┴─────────┴────────────┘"
      ]
     },
     "execution_count": 42,
     "metadata": {},
     "output_type": "execute_result"
    }
   ],
   "source": [
    "%%time\n",
    "\n",
    "(\n",
    "    df.with_columns(\n",
    "        is_congested=pl.col('congestion_surcharge').fill_null(0) > 0\n",
    "    )\n",
    "    .group_by('DOLocationID')\n",
    "    .agg(\n",
    "        mean_fare=pl.mean('fare_amount'),\n",
    "        count=pl.len(),\n",
    "        congestion=pl.mean('is_congested')\n",
    "    )\n",
    "    .sort('count', descending=True)\n",
    "    .collect()\n",
    ")"
   ]
  },
  {
   "cell_type": "code",
   "execution_count": 8,
   "id": "7bf145a3-1d38-450d-bbd3-83a25395e0f0",
   "metadata": {},
   "outputs": [
    {
     "data": {
      "text/plain": [
       "(36256549, 19)"
      ]
     },
     "execution_count": 8,
     "metadata": {},
     "output_type": "execute_result"
    }
   ],
   "source": [
    "df.collect().shape"
   ]
  },
  {
   "cell_type": "code",
   "execution_count": 9,
   "id": "1cc0ef76-7b42-4f57-b35a-0ac960dd2341",
   "metadata": {},
   "outputs": [
    {
     "data": {
      "text/plain": [
       "4.911875405348837"
      ]
     },
     "execution_count": 9,
     "metadata": {},
     "output_type": "execute_result"
    }
   ],
   "source": [
    "df.collect().estimated_size('gb')"
   ]
  },
  {
   "cell_type": "code",
   "execution_count": null,
   "id": "e998bac4-6572-4cee-bf2a-36f8720dfe31",
   "metadata": {},
   "outputs": [],
   "source": []
  }
 ],
 "metadata": {
  "kernelspec": {
   "display_name": "pandas",
   "language": "python",
   "name": "pandas"
  },
  "language_info": {
   "codemirror_mode": {
    "name": "ipython",
    "version": 3
   },
   "file_extension": ".py",
   "mimetype": "text/x-python",
   "name": "python",
   "nbconvert_exporter": "python",
   "pygments_lexer": "ipython3",
   "version": "3.11.9"
  }
 },
 "nbformat": 4,
 "nbformat_minor": 5
}
