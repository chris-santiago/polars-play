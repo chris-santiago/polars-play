{
 "cells": [
  {
   "cell_type": "code",
   "execution_count": 1,
   "id": "6e9cedd0-486e-4ae8-aab5-a46de7cf033d",
   "metadata": {},
   "outputs": [],
   "source": [
    "import vaex as vx"
   ]
  },
  {
   "cell_type": "code",
   "execution_count": 2,
   "id": "857438ce-51bf-4137-be6d-fa2384b5ce47",
   "metadata": {},
   "outputs": [],
   "source": [
    "URI = 's3://vaex/taxi/yellow_taxi_2015_f32s.hdf5?anon=true'"
   ]
  },
  {
   "cell_type": "code",
   "execution_count": 3,
   "id": "08b87888-81a2-4437-8df0-65edf1646eba",
   "metadata": {},
   "outputs": [
    {
     "name": "stdout",
     "output_type": "stream",
     "text": [
      "CPU times: user 705 ms, sys: 464 ms, total: 1.17 s\n",
      "Wall time: 19.6 s\n"
     ]
    }
   ],
   "source": [
    "%%time\n",
    "\n",
    "df = vx.open(URI)"
   ]
  },
  {
   "cell_type": "code",
   "execution_count": 4,
   "id": "55867d2c-a0e0-4b41-bac6-2c7630cf6001",
   "metadata": {},
   "outputs": [
    {
     "data": {
      "text/plain": [
       "(146112991, 18)"
      ]
     },
     "execution_count": 4,
     "metadata": {},
     "output_type": "execute_result"
    }
   ],
   "source": [
    "df.shape"
   ]
  },
  {
   "cell_type": "code",
   "execution_count": 6,
   "id": "a59e21a7-0c10-4b1c-a999-24b45bc1abb4",
   "metadata": {},
   "outputs": [
    {
     "data": {
      "text/plain": [
       "12.857943217"
      ]
     },
     "execution_count": 6,
     "metadata": {},
     "output_type": "execute_result"
    }
   ],
   "source": [
    "df.byte_size() / 1e9  # size GB"
   ]
  },
  {
   "cell_type": "code",
   "execution_count": 9,
   "id": "de5f8eb4-c4d2-47a7-a6c0-f8433f1bfada",
   "metadata": {},
   "outputs": [
    {
     "data": {
      "text/html": [
       "<table>\n",
       "<thead>\n",
       "<tr><th>#                            </th><th>vendor_id  </th><th>pickup_datetime              </th><th>dropoff_datetime             </th><th style=\"text-align: right;\">  passenger_count</th><th>payment_type  </th><th style=\"text-align: right;\">  trip_distance</th><th style=\"text-align: right;\">  pickup_longitude</th><th style=\"text-align: right;\">  pickup_latitude</th><th style=\"text-align: right;\">  rate_code</th><th style=\"text-align: right;\">  store_and_fwd_flag</th><th style=\"text-align: right;\">  dropoff_longitude</th><th style=\"text-align: right;\">  dropoff_latitude</th><th style=\"text-align: right;\">  fare_amount</th><th style=\"text-align: right;\">  surcharge</th><th style=\"text-align: right;\">  mta_tax</th><th style=\"text-align: right;\">  tip_amount</th><th style=\"text-align: right;\">  tolls_amount</th><th style=\"text-align: right;\">  total_amount</th></tr>\n",
       "</thead>\n",
       "<tbody>\n",
       "<tr><td><i style='opacity: 0.6'>0</i></td><td>VTS        </td><td>2014-12-16 02:26:00.000000000</td><td>2014-12-16 02:28:00.000000000</td><td style=\"text-align: right;\">                1</td><td>CSH           </td><td style=\"text-align: right;\">           1.09</td><td style=\"text-align: right;\">          -73.9867</td><td style=\"text-align: right;\">          40.7564</td><td style=\"text-align: right;\">          1</td><td style=\"text-align: right;\">                 nan</td><td style=\"text-align: right;\">           -73.9965</td><td style=\"text-align: right;\">           40.7429</td><td style=\"text-align: right;\">          5  </td><td style=\"text-align: right;\">        0.5</td><td style=\"text-align: right;\">      0.5</td><td style=\"text-align: right;\">        0   </td><td style=\"text-align: right;\">          0   </td><td style=\"text-align: right;\">          6   </td></tr>\n",
       "<tr><td><i style='opacity: 0.6'>1</i></td><td>VTS        </td><td>2014-12-15 18:23:00.000000000</td><td>2014-12-15 18:58:00.000000000</td><td style=\"text-align: right;\">                2</td><td>              </td><td style=\"text-align: right;\">           6.28</td><td style=\"text-align: right;\">          -74.0042</td><td style=\"text-align: right;\">          40.7212</td><td style=\"text-align: right;\">          1</td><td style=\"text-align: right;\">                 nan</td><td style=\"text-align: right;\">           -73.97  </td><td style=\"text-align: right;\">          nan     </td><td style=\"text-align: right;\">        nan  </td><td style=\"text-align: right;\">      nan  </td><td style=\"text-align: right;\">    nan  </td><td style=\"text-align: right;\">      nan   </td><td style=\"text-align: right;\">        nan   </td><td style=\"text-align: right;\">        nan   </td></tr>\n",
       "<tr><td><i style='opacity: 0.6'>2</i></td><td>VTS        </td><td>2015-01-15 19:05:39.000000000</td><td>2015-01-15 19:23:42.000000000</td><td style=\"text-align: right;\">                1</td><td>1             </td><td style=\"text-align: right;\">           1.59</td><td style=\"text-align: right;\">          -73.9939</td><td style=\"text-align: right;\">          40.7501</td><td style=\"text-align: right;\">          1</td><td style=\"text-align: right;\">                   0</td><td style=\"text-align: right;\">           -73.9748</td><td style=\"text-align: right;\">           40.7506</td><td style=\"text-align: right;\">         12  </td><td style=\"text-align: right;\">        1  </td><td style=\"text-align: right;\">      0.5</td><td style=\"text-align: right;\">        3.25</td><td style=\"text-align: right;\">          0   </td><td style=\"text-align: right;\">         17.05</td></tr>\n",
       "<tr><td><i style='opacity: 0.6'>3</i></td><td>CMT        </td><td>2015-01-10 20:33:38.000000000</td><td>2015-01-10 20:53:28.000000000</td><td style=\"text-align: right;\">                1</td><td>1             </td><td style=\"text-align: right;\">           3.3 </td><td style=\"text-align: right;\">          -74.0016</td><td style=\"text-align: right;\">          40.7242</td><td style=\"text-align: right;\">          1</td><td style=\"text-align: right;\">                   0</td><td style=\"text-align: right;\">           -73.9944</td><td style=\"text-align: right;\">           40.7591</td><td style=\"text-align: right;\">         14.5</td><td style=\"text-align: right;\">        0.5</td><td style=\"text-align: right;\">      0.5</td><td style=\"text-align: right;\">        2   </td><td style=\"text-align: right;\">          0   </td><td style=\"text-align: right;\">         17.8 </td></tr>\n",
       "<tr><td><i style='opacity: 0.6'>4</i></td><td>CMT        </td><td>2015-01-10 20:33:38.000000000</td><td>2015-01-10 20:43:41.000000000</td><td style=\"text-align: right;\">                1</td><td>2             </td><td style=\"text-align: right;\">           1.8 </td><td style=\"text-align: right;\">          -73.9633</td><td style=\"text-align: right;\">          40.8028</td><td style=\"text-align: right;\">          1</td><td style=\"text-align: right;\">                   0</td><td style=\"text-align: right;\">           -73.9518</td><td style=\"text-align: right;\">           40.8244</td><td style=\"text-align: right;\">          9.5</td><td style=\"text-align: right;\">        0.5</td><td style=\"text-align: right;\">      0.5</td><td style=\"text-align: right;\">        0   </td><td style=\"text-align: right;\">          0   </td><td style=\"text-align: right;\">         10.8 </td></tr>\n",
       "<tr><td><i style='opacity: 0.6'>5</i></td><td>CMT        </td><td>2015-01-10 20:33:39.000000000</td><td>2015-01-10 20:35:31.000000000</td><td style=\"text-align: right;\">                1</td><td>2             </td><td style=\"text-align: right;\">           0.5 </td><td style=\"text-align: right;\">          -74.0091</td><td style=\"text-align: right;\">          40.7138</td><td style=\"text-align: right;\">          1</td><td style=\"text-align: right;\">                   0</td><td style=\"text-align: right;\">           -74.0043</td><td style=\"text-align: right;\">           40.72  </td><td style=\"text-align: right;\">          3.5</td><td style=\"text-align: right;\">        0.5</td><td style=\"text-align: right;\">      0.5</td><td style=\"text-align: right;\">        0   </td><td style=\"text-align: right;\">          0   </td><td style=\"text-align: right;\">          4.8 </td></tr>\n",
       "<tr><td><i style='opacity: 0.6'>6</i></td><td>CMT        </td><td>2015-01-10 20:33:39.000000000</td><td>2015-01-10 20:52:58.000000000</td><td style=\"text-align: right;\">                1</td><td>2             </td><td style=\"text-align: right;\">           3   </td><td style=\"text-align: right;\">          -73.9712</td><td style=\"text-align: right;\">          40.7624</td><td style=\"text-align: right;\">          1</td><td style=\"text-align: right;\">                   0</td><td style=\"text-align: right;\">           -74.0042</td><td style=\"text-align: right;\">           40.7427</td><td style=\"text-align: right;\">         15  </td><td style=\"text-align: right;\">        0.5</td><td style=\"text-align: right;\">      0.5</td><td style=\"text-align: right;\">        0   </td><td style=\"text-align: right;\">          0   </td><td style=\"text-align: right;\">         16.3 </td></tr>\n",
       "<tr><td><i style='opacity: 0.6'>7</i></td><td>CMT        </td><td>2015-01-10 20:33:39.000000000</td><td>2015-01-10 20:53:52.000000000</td><td style=\"text-align: right;\">                1</td><td>1             </td><td style=\"text-align: right;\">           9   </td><td style=\"text-align: right;\">          -73.8744</td><td style=\"text-align: right;\">          40.774 </td><td style=\"text-align: right;\">          1</td><td style=\"text-align: right;\">                   0</td><td style=\"text-align: right;\">           -73.987 </td><td style=\"text-align: right;\">           40.7582</td><td style=\"text-align: right;\">         27  </td><td style=\"text-align: right;\">        0.5</td><td style=\"text-align: right;\">      0.5</td><td style=\"text-align: right;\">        6.7 </td><td style=\"text-align: right;\">          5.33</td><td style=\"text-align: right;\">         40.33</td></tr>\n",
       "<tr><td><i style='opacity: 0.6'>8</i></td><td>CMT        </td><td>2015-01-10 20:33:39.000000000</td><td>2015-01-10 20:58:31.000000000</td><td style=\"text-align: right;\">                1</td><td>2             </td><td style=\"text-align: right;\">           2.2 </td><td style=\"text-align: right;\">          -73.9833</td><td style=\"text-align: right;\">          40.726 </td><td style=\"text-align: right;\">          1</td><td style=\"text-align: right;\">                   0</td><td style=\"text-align: right;\">           -73.9925</td><td style=\"text-align: right;\">           40.7496</td><td style=\"text-align: right;\">         14  </td><td style=\"text-align: right;\">        0.5</td><td style=\"text-align: right;\">      0.5</td><td style=\"text-align: right;\">        0   </td><td style=\"text-align: right;\">          0   </td><td style=\"text-align: right;\">         15.3 </td></tr>\n",
       "<tr><td><i style='opacity: 0.6'>9</i></td><td>CMT        </td><td>2015-01-10 20:33:39.000000000</td><td>2015-01-10 20:42:20.000000000</td><td style=\"text-align: right;\">                3</td><td>1             </td><td style=\"text-align: right;\">           0.8 </td><td style=\"text-align: right;\">          -74.0027</td><td style=\"text-align: right;\">          40.7341</td><td style=\"text-align: right;\">          1</td><td style=\"text-align: right;\">                   0</td><td style=\"text-align: right;\">           -73.995 </td><td style=\"text-align: right;\">           40.7263</td><td style=\"text-align: right;\">          7  </td><td style=\"text-align: right;\">        0.5</td><td style=\"text-align: right;\">      0.5</td><td style=\"text-align: right;\">        1.66</td><td style=\"text-align: right;\">          0   </td><td style=\"text-align: right;\">          9.96</td></tr>\n",
       "</tbody>\n",
       "</table>"
      ],
      "text/plain": [
       "  #  vendor_id    pickup_datetime                dropoff_datetime                 passenger_count  payment_type      trip_distance    pickup_longitude    pickup_latitude    rate_code    store_and_fwd_flag    dropoff_longitude    dropoff_latitude    fare_amount    surcharge    mta_tax    tip_amount    tolls_amount    total_amount\n",
       "  0  VTS          2014-12-16 02:26:00.000000000  2014-12-16 02:28:00.000000000                  1  CSH                        1.09            -73.9867            40.7564            1                   nan             -73.9965             40.7429            5            0.5        0.5          0               0               6\n",
       "  1  VTS          2014-12-15 18:23:00.000000000  2014-12-15 18:58:00.000000000                  2                             6.28            -74.0042            40.7212            1                   nan             -73.97              nan               nan          nan        nan          nan             nan             nan\n",
       "  2  VTS          2015-01-15 19:05:39.000000000  2015-01-15 19:23:42.000000000                  1  1                          1.59            -73.9939            40.7501            1                     0             -73.9748             40.7506           12            1          0.5          3.25            0              17.05\n",
       "  3  CMT          2015-01-10 20:33:38.000000000  2015-01-10 20:53:28.000000000                  1  1                          3.3             -74.0016            40.7242            1                     0             -73.9944             40.7591           14.5          0.5        0.5          2               0              17.8\n",
       "  4  CMT          2015-01-10 20:33:38.000000000  2015-01-10 20:43:41.000000000                  1  2                          1.8             -73.9633            40.8028            1                     0             -73.9518             40.8244            9.5          0.5        0.5          0               0              10.8\n",
       "  5  CMT          2015-01-10 20:33:39.000000000  2015-01-10 20:35:31.000000000                  1  2                          0.5             -74.0091            40.7138            1                     0             -74.0043             40.72              3.5          0.5        0.5          0               0               4.8\n",
       "  6  CMT          2015-01-10 20:33:39.000000000  2015-01-10 20:52:58.000000000                  1  2                          3               -73.9712            40.7624            1                     0             -74.0042             40.7427           15            0.5        0.5          0               0              16.3\n",
       "  7  CMT          2015-01-10 20:33:39.000000000  2015-01-10 20:53:52.000000000                  1  1                          9               -73.8744            40.774             1                     0             -73.987              40.7582           27            0.5        0.5          6.7             5.33           40.33\n",
       "  8  CMT          2015-01-10 20:33:39.000000000  2015-01-10 20:58:31.000000000                  1  2                          2.2             -73.9833            40.726             1                     0             -73.9925             40.7496           14            0.5        0.5          0               0              15.3\n",
       "  9  CMT          2015-01-10 20:33:39.000000000  2015-01-10 20:42:20.000000000                  3  1                          0.8             -74.0027            40.7341            1                     0             -73.995              40.7263            7            0.5        0.5          1.66            0               9.96"
      ]
     },
     "execution_count": 9,
     "metadata": {},
     "output_type": "execute_result"
    }
   ],
   "source": [
    "df.head()"
   ]
  },
  {
   "cell_type": "code",
   "execution_count": 15,
   "id": "20741c3d-06f3-4288-83d0-fa4a9a690e25",
   "metadata": {},
   "outputs": [
    {
     "name": "stdout",
     "output_type": "stream",
     "text": [
      "groupby [########################################] 100.00% elapsed time  :   177.76s =  3.0m =  0.0hh \n",
      " CPU times: user 4min 44s, sys: 3min 18s, total: 8min 2s\n",
      "Wall time: 2min 57s\n"
     ]
    },
    {
     "data": {
      "text/html": [
       "<table>\n",
       "<thead>\n",
       "<tr><th>#                                  </th><th>dropoff_loc         </th><th>fare_amount  </th><th>is_congested       </th></tr>\n",
       "</thead>\n",
       "<tbody>\n",
       "<tr><td><i style='opacity: 0.6'>0</i>      </td><td>-73.957085-73.957085</td><td>9292         </td><td>0.524429616874731  </td></tr>\n",
       "<tr><td><i style='opacity: 0.6'>1</i>      </td><td>-73.965775-73.965775</td><td>9856         </td><td>0.47635957792207795</td></tr>\n",
       "<tr><td><i style='opacity: 0.6'>2</i>      </td><td>-73.969498-73.969498</td><td>14863        </td><td>0.3881450581982103 </td></tr>\n",
       "<tr><td><i style='opacity: 0.6'>3</i>      </td><td>-73.966232-73.966232</td><td>12350        </td><td>0.4631578947368421 </td></tr>\n",
       "<tr><td><i style='opacity: 0.6'>4</i>      </td><td>-73.976311-73.976311</td><td>23395        </td><td>0.4298781790980979 </td></tr>\n",
       "<tr><td>...                                </td><td>...                 </td><td>...          </td><td>...                </td></tr>\n",
       "<tr><td><i style='opacity: 0.6'>106,594</i></td><td>-73.407761-73.407761</td><td>1            </td><td>1.0                </td></tr>\n",
       "<tr><td><i style='opacity: 0.6'>106,595</i></td><td>-73.538094-73.538094</td><td>1            </td><td>0.0                </td></tr>\n",
       "<tr><td><i style='opacity: 0.6'>106,596</i></td><td>-73.137726-73.137726</td><td>1            </td><td>1.0                </td></tr>\n",
       "<tr><td><i style='opacity: 0.6'>106,597</i></td><td>-74.216072-74.216072</td><td>2            </td><td>0.0                </td></tr>\n",
       "<tr><td><i style='opacity: 0.6'>106,598</i></td><td>-74.122284-74.122284</td><td>1            </td><td>0.0                </td></tr>\n",
       "</tbody>\n",
       "</table>"
      ],
      "text/plain": [
       "#        dropoff_loc           fare_amount    is_congested\n",
       "0        -73.957085-73.957085  9292           0.524429616874731\n",
       "1        -73.965775-73.965775  9856           0.47635957792207795\n",
       "2        -73.969498-73.969498  14863          0.3881450581982103\n",
       "3        -73.966232-73.966232  12350          0.4631578947368421\n",
       "4        -73.976311-73.976311  23395          0.4298781790980979\n",
       "...      ...                   ...            ...\n",
       "106,594  -73.407761-73.407761  1              1.0\n",
       "106,595  -73.538094-73.538094  1              0.0\n",
       "106,596  -73.137726-73.137726  1              1.0\n",
       "106,597  -74.216072-74.216072  2              0.0\n",
       "106,598  -74.122284-74.122284  1              0.0"
      ]
     },
     "execution_count": 15,
     "metadata": {},
     "output_type": "execute_result"
    }
   ],
   "source": [
    "%%time\n",
    "\n",
    "df['is_congested'] = df.surcharge.fillna(0) > 0\n",
    "df['dropoff_loc'] = df.dropoff_longitude.astype(str).str.cat(df.dropoff_longitude.astype(str))\n",
    "\n",
    "df.groupby(\n",
    "    'dropoff_loc',\n",
    "    agg={\n",
    "        'fare_amount': 'mean',\n",
    "        'fare_amount': 'count',\n",
    "        'is_congested': 'mean'\n",
    "    },\n",
    "    progress=True\n",
    ")"
   ]
  }
 ],
 "metadata": {
  "kernelspec": {
   "display_name": "Python 3 (ipykernel)",
   "language": "python",
   "name": "python3"
  },
  "language_info": {
   "codemirror_mode": {
    "name": "ipython",
    "version": 3
   },
   "file_extension": ".py",
   "mimetype": "text/x-python",
   "name": "python",
   "nbconvert_exporter": "python",
   "pygments_lexer": "ipython3",
   "version": "3.10.9"
  }
 },
 "nbformat": 4,
 "nbformat_minor": 5
}
