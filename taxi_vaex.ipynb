{
 "cells": [
  {
   "cell_type": "code",
   "execution_count": 1,
   "id": "6e9cedd0-486e-4ae8-aab5-a46de7cf033d",
   "metadata": {},
   "outputs": [],
   "source": [
    "import vaex as vx"
   ]
  },
  {
   "cell_type": "code",
   "execution_count": 2,
   "id": "857438ce-51bf-4137-be6d-fa2384b5ce47",
   "metadata": {},
   "outputs": [],
   "source": [
    "DATA = './data/nyc-taxi/*.parquet'"
   ]
  },
  {
   "cell_type": "code",
   "execution_count": 3,
   "id": "08b87888-81a2-4437-8df0-65edf1646eba",
   "metadata": {},
   "outputs": [
    {
     "name": "stdout",
     "output_type": "stream",
     "text": [
      "CPU times: user 256 ms, sys: 65.1 ms, total: 321 ms\n",
      "Wall time: 417 ms\n"
     ]
    }
   ],
   "source": [
    "%%time\n",
    "\n",
    "df = vx.open(DATA)"
   ]
  },
  {
   "cell_type": "code",
   "execution_count": 4,
   "id": "61fa9de4-293a-4537-940a-dc2cf514e98d",
   "metadata": {},
   "outputs": [
    {
     "data": {
      "text/html": [
       "<pre style=\"white-space:pre;overflow-x:auto;line-height:normal;font-family:Menlo,'DejaVu Sans Mono',consolas,'Courier New',monospace\">\n",
       "<span style=\"font-weight: bold\">[</span>\n",
       "    <span style=\"color: #008000; text-decoration-color: #008000\">'VendorID'</span>,\n",
       "    <span style=\"color: #008000; text-decoration-color: #008000\">'tpep_pickup_datetime'</span>,\n",
       "    <span style=\"color: #008000; text-decoration-color: #008000\">'tpep_dropoff_datetime'</span>,\n",
       "    <span style=\"color: #008000; text-decoration-color: #008000\">'passenger_count'</span>,\n",
       "    <span style=\"color: #008000; text-decoration-color: #008000\">'trip_distance'</span>,\n",
       "    <span style=\"color: #008000; text-decoration-color: #008000\">'RatecodeID'</span>,\n",
       "    <span style=\"color: #008000; text-decoration-color: #008000\">'store_and_fwd_flag'</span>,\n",
       "    <span style=\"color: #008000; text-decoration-color: #008000\">'PULocationID'</span>,\n",
       "    <span style=\"color: #008000; text-decoration-color: #008000\">'DOLocationID'</span>,\n",
       "    <span style=\"color: #008000; text-decoration-color: #008000\">'payment_type'</span>,\n",
       "    <span style=\"color: #008000; text-decoration-color: #008000\">'fare_amount'</span>,\n",
       "    <span style=\"color: #008000; text-decoration-color: #008000\">'extra'</span>,\n",
       "    <span style=\"color: #008000; text-decoration-color: #008000\">'mta_tax'</span>,\n",
       "    <span style=\"color: #008000; text-decoration-color: #008000\">'tip_amount'</span>,\n",
       "    <span style=\"color: #008000; text-decoration-color: #008000\">'tolls_amount'</span>,\n",
       "    <span style=\"color: #008000; text-decoration-color: #008000\">'improvement_surcharge'</span>,\n",
       "    <span style=\"color: #008000; text-decoration-color: #008000\">'total_amount'</span>,\n",
       "    <span style=\"color: #008000; text-decoration-color: #008000\">'congestion_surcharge'</span>,\n",
       "    <span style=\"color: #008000; text-decoration-color: #008000\">'airport_fee'</span>\n",
       "<span style=\"font-weight: bold\">]</span>\n",
       "</pre>\n"
      ],
      "text/plain": [
       "\n",
       "\u001b[1m[\u001b[0m\n",
       "    \u001b[32m'VendorID'\u001b[0m,\n",
       "    \u001b[32m'tpep_pickup_datetime'\u001b[0m,\n",
       "    \u001b[32m'tpep_dropoff_datetime'\u001b[0m,\n",
       "    \u001b[32m'passenger_count'\u001b[0m,\n",
       "    \u001b[32m'trip_distance'\u001b[0m,\n",
       "    \u001b[32m'RatecodeID'\u001b[0m,\n",
       "    \u001b[32m'store_and_fwd_flag'\u001b[0m,\n",
       "    \u001b[32m'PULocationID'\u001b[0m,\n",
       "    \u001b[32m'DOLocationID'\u001b[0m,\n",
       "    \u001b[32m'payment_type'\u001b[0m,\n",
       "    \u001b[32m'fare_amount'\u001b[0m,\n",
       "    \u001b[32m'extra'\u001b[0m,\n",
       "    \u001b[32m'mta_tax'\u001b[0m,\n",
       "    \u001b[32m'tip_amount'\u001b[0m,\n",
       "    \u001b[32m'tolls_amount'\u001b[0m,\n",
       "    \u001b[32m'improvement_surcharge'\u001b[0m,\n",
       "    \u001b[32m'total_amount'\u001b[0m,\n",
       "    \u001b[32m'congestion_surcharge'\u001b[0m,\n",
       "    \u001b[32m'airport_fee'\u001b[0m\n",
       "\u001b[1m]\u001b[0m\n"
      ]
     },
     "metadata": {},
     "output_type": "display_data"
    }
   ],
   "source": [
    "df.column_names"
   ]
  },
  {
   "cell_type": "code",
   "execution_count": 5,
   "id": "55867d2c-a0e0-4b41-bac6-2c7630cf6001",
   "metadata": {},
   "outputs": [
    {
     "data": {
      "text/html": [
       "<pre style=\"white-space:pre;overflow-x:auto;line-height:normal;font-family:Menlo,'DejaVu Sans Mono',consolas,'Courier New',monospace\"><span style=\"font-weight: bold\">(</span><span style=\"color: #008080; text-decoration-color: #008080; font-weight: bold\">176408393</span>, <span style=\"color: #008080; text-decoration-color: #008080; font-weight: bold\">19</span><span style=\"font-weight: bold\">)</span>\n",
       "</pre>\n"
      ],
      "text/plain": [
       "\u001b[1m(\u001b[0m\u001b[1;36m176408393\u001b[0m, \u001b[1;36m19\u001b[0m\u001b[1m)\u001b[0m\n"
      ]
     },
     "metadata": {},
     "output_type": "display_data"
    }
   ],
   "source": [
    "df.shape"
   ]
  },
  {
   "cell_type": "code",
   "execution_count": 6,
   "id": "9f880159-ce8a-4e7f-b112-5e118d5d7008",
   "metadata": {},
   "outputs": [
    {
     "data": {
      "text/html": [
       "<pre style=\"white-space:pre;overflow-x:auto;line-height:normal;font-family:Menlo,'DejaVu Sans Mono',consolas,'Courier New',monospace\"><span style=\"color: #008080; text-decoration-color: #008080; font-weight: bold\">25.402808592</span>\n",
       "</pre>\n"
      ],
      "text/plain": [
       "\u001b[1;36m25.402808592\u001b[0m\n"
      ]
     },
     "metadata": {},
     "output_type": "display_data"
    }
   ],
   "source": [
    "df.drop('store_and_fwd_flag').byte_size() / 1e9  # trying to size string col raises error"
   ]
  },
  {
   "cell_type": "code",
   "execution_count": 6,
   "id": "de5f8eb4-c4d2-47a7-a6c0-f8433f1bfada",
   "metadata": {},
   "outputs": [
    {
     "data": {
      "text/html": [
       "<table>\n",
       "<thead>\n",
       "<tr><th>#                            </th><th style=\"text-align: right;\">  VendorID</th><th>tpep_pickup_datetime  </th><th>tpep_dropoff_datetime  </th><th style=\"text-align: right;\">  passenger_count</th><th style=\"text-align: right;\">  trip_distance</th><th style=\"text-align: right;\">  RatecodeID</th><th>store_and_fwd_flag  </th><th style=\"text-align: right;\">  PULocationID</th><th style=\"text-align: right;\">  DOLocationID</th><th style=\"text-align: right;\">  payment_type</th><th style=\"text-align: right;\">  fare_amount</th><th style=\"text-align: right;\">  extra</th><th style=\"text-align: right;\">  mta_tax</th><th style=\"text-align: right;\">  tip_amount</th><th style=\"text-align: right;\">  tolls_amount</th><th style=\"text-align: right;\">  improvement_surcharge</th><th style=\"text-align: right;\">  total_amount</th><th>congestion_surcharge  </th><th>airport_fee  </th></tr>\n",
       "</thead>\n",
       "<tbody>\n",
       "<tr><td><i style='opacity: 0.6'>0</i></td><td style=\"text-align: right;\">         1</td><td>2019-01-01 00:46:40   </td><td>2019-01-01 00:53:20    </td><td style=\"text-align: right;\">                1</td><td style=\"text-align: right;\">            1.5</td><td style=\"text-align: right;\">           1</td><td>N                   </td><td style=\"text-align: right;\">           151</td><td style=\"text-align: right;\">           239</td><td style=\"text-align: right;\">             1</td><td style=\"text-align: right;\">          7  </td><td style=\"text-align: right;\">    0.5</td><td style=\"text-align: right;\">      0.5</td><td style=\"text-align: right;\">        1.65</td><td style=\"text-align: right;\">          0   </td><td style=\"text-align: right;\">                    0.3</td><td style=\"text-align: right;\">          9.95</td><td>--                    </td><td>--           </td></tr>\n",
       "<tr><td><i style='opacity: 0.6'>1</i></td><td style=\"text-align: right;\">         1</td><td>2019-01-01 00:59:47   </td><td>2019-01-01 01:18:59    </td><td style=\"text-align: right;\">                1</td><td style=\"text-align: right;\">            2.6</td><td style=\"text-align: right;\">           1</td><td>N                   </td><td style=\"text-align: right;\">           239</td><td style=\"text-align: right;\">           246</td><td style=\"text-align: right;\">             1</td><td style=\"text-align: right;\">         14  </td><td style=\"text-align: right;\">    0.5</td><td style=\"text-align: right;\">      0.5</td><td style=\"text-align: right;\">        1   </td><td style=\"text-align: right;\">          0   </td><td style=\"text-align: right;\">                    0.3</td><td style=\"text-align: right;\">         16.3 </td><td>--                    </td><td>--           </td></tr>\n",
       "<tr><td><i style='opacity: 0.6'>2</i></td><td style=\"text-align: right;\">         2</td><td>2018-12-21 13:48:30   </td><td>2018-12-21 13:52:40    </td><td style=\"text-align: right;\">                3</td><td style=\"text-align: right;\">            0  </td><td style=\"text-align: right;\">           1</td><td>N                   </td><td style=\"text-align: right;\">           236</td><td style=\"text-align: right;\">           236</td><td style=\"text-align: right;\">             1</td><td style=\"text-align: right;\">          4.5</td><td style=\"text-align: right;\">    0.5</td><td style=\"text-align: right;\">      0.5</td><td style=\"text-align: right;\">        0   </td><td style=\"text-align: right;\">          0   </td><td style=\"text-align: right;\">                    0.3</td><td style=\"text-align: right;\">          5.8 </td><td>--                    </td><td>--           </td></tr>\n",
       "<tr><td><i style='opacity: 0.6'>3</i></td><td style=\"text-align: right;\">         2</td><td>2018-11-28 15:52:25   </td><td>2018-11-28 15:55:45    </td><td style=\"text-align: right;\">                5</td><td style=\"text-align: right;\">            0  </td><td style=\"text-align: right;\">           1</td><td>N                   </td><td style=\"text-align: right;\">           193</td><td style=\"text-align: right;\">           193</td><td style=\"text-align: right;\">             2</td><td style=\"text-align: right;\">          3.5</td><td style=\"text-align: right;\">    0.5</td><td style=\"text-align: right;\">      0.5</td><td style=\"text-align: right;\">        0   </td><td style=\"text-align: right;\">          0   </td><td style=\"text-align: right;\">                    0.3</td><td style=\"text-align: right;\">          7.55</td><td>--                    </td><td>--           </td></tr>\n",
       "<tr><td><i style='opacity: 0.6'>4</i></td><td style=\"text-align: right;\">         2</td><td>2018-11-28 15:56:57   </td><td>2018-11-28 15:58:33    </td><td style=\"text-align: right;\">                5</td><td style=\"text-align: right;\">            0  </td><td style=\"text-align: right;\">           2</td><td>N                   </td><td style=\"text-align: right;\">           193</td><td style=\"text-align: right;\">           193</td><td style=\"text-align: right;\">             2</td><td style=\"text-align: right;\">         52  </td><td style=\"text-align: right;\">    0  </td><td style=\"text-align: right;\">      0.5</td><td style=\"text-align: right;\">        0   </td><td style=\"text-align: right;\">          0   </td><td style=\"text-align: right;\">                    0.3</td><td style=\"text-align: right;\">         55.55</td><td>--                    </td><td>--           </td></tr>\n",
       "<tr><td><i style='opacity: 0.6'>5</i></td><td style=\"text-align: right;\">         2</td><td>2018-11-28 16:25:49   </td><td>2018-11-28 16:28:26    </td><td style=\"text-align: right;\">                5</td><td style=\"text-align: right;\">            0  </td><td style=\"text-align: right;\">           1</td><td>N                   </td><td style=\"text-align: right;\">           193</td><td style=\"text-align: right;\">           193</td><td style=\"text-align: right;\">             2</td><td style=\"text-align: right;\">          3.5</td><td style=\"text-align: right;\">    0.5</td><td style=\"text-align: right;\">      0.5</td><td style=\"text-align: right;\">        0   </td><td style=\"text-align: right;\">          5.76</td><td style=\"text-align: right;\">                    0.3</td><td style=\"text-align: right;\">         13.31</td><td>--                    </td><td>--           </td></tr>\n",
       "<tr><td><i style='opacity: 0.6'>6</i></td><td style=\"text-align: right;\">         2</td><td>2018-11-28 16:29:37   </td><td>2018-11-28 16:33:43    </td><td style=\"text-align: right;\">                5</td><td style=\"text-align: right;\">            0  </td><td style=\"text-align: right;\">           2</td><td>N                   </td><td style=\"text-align: right;\">           193</td><td style=\"text-align: right;\">           193</td><td style=\"text-align: right;\">             2</td><td style=\"text-align: right;\">         52  </td><td style=\"text-align: right;\">    0  </td><td style=\"text-align: right;\">      0.5</td><td style=\"text-align: right;\">        0   </td><td style=\"text-align: right;\">          0   </td><td style=\"text-align: right;\">                    0.3</td><td style=\"text-align: right;\">         55.55</td><td>--                    </td><td>--           </td></tr>\n",
       "<tr><td><i style='opacity: 0.6'>7</i></td><td style=\"text-align: right;\">         1</td><td>2019-01-01 00:21:28   </td><td>2019-01-01 00:28:37    </td><td style=\"text-align: right;\">                1</td><td style=\"text-align: right;\">            1.3</td><td style=\"text-align: right;\">           1</td><td>N                   </td><td style=\"text-align: right;\">           163</td><td style=\"text-align: right;\">           229</td><td style=\"text-align: right;\">             1</td><td style=\"text-align: right;\">          6.5</td><td style=\"text-align: right;\">    0.5</td><td style=\"text-align: right;\">      0.5</td><td style=\"text-align: right;\">        1.25</td><td style=\"text-align: right;\">          0   </td><td style=\"text-align: right;\">                    0.3</td><td style=\"text-align: right;\">          9.05</td><td>--                    </td><td>--           </td></tr>\n",
       "<tr><td><i style='opacity: 0.6'>8</i></td><td style=\"text-align: right;\">         1</td><td>2019-01-01 00:32:01   </td><td>2019-01-01 00:45:39    </td><td style=\"text-align: right;\">                1</td><td style=\"text-align: right;\">            3.7</td><td style=\"text-align: right;\">           1</td><td>N                   </td><td style=\"text-align: right;\">           229</td><td style=\"text-align: right;\">             7</td><td style=\"text-align: right;\">             1</td><td style=\"text-align: right;\">         13.5</td><td style=\"text-align: right;\">    0.5</td><td style=\"text-align: right;\">      0.5</td><td style=\"text-align: right;\">        3.7 </td><td style=\"text-align: right;\">          0   </td><td style=\"text-align: right;\">                    0.3</td><td style=\"text-align: right;\">         18.5 </td><td>--                    </td><td>--           </td></tr>\n",
       "<tr><td><i style='opacity: 0.6'>9</i></td><td style=\"text-align: right;\">         1</td><td>2019-01-01 00:57:32   </td><td>2019-01-01 01:09:32    </td><td style=\"text-align: right;\">                2</td><td style=\"text-align: right;\">            2.1</td><td style=\"text-align: right;\">           1</td><td>N                   </td><td style=\"text-align: right;\">           141</td><td style=\"text-align: right;\">           234</td><td style=\"text-align: right;\">             1</td><td style=\"text-align: right;\">         10  </td><td style=\"text-align: right;\">    0.5</td><td style=\"text-align: right;\">      0.5</td><td style=\"text-align: right;\">        1.7 </td><td style=\"text-align: right;\">          0   </td><td style=\"text-align: right;\">                    0.3</td><td style=\"text-align: right;\">         13   </td><td>--                    </td><td>--           </td></tr>\n",
       "</tbody>\n",
       "</table>"
      ],
      "text/plain": [
       "  #    VendorID  tpep_pickup_datetime    tpep_dropoff_datetime      passenger_count    trip_distance    RatecodeID  store_and_fwd_flag      PULocationID    DOLocationID    payment_type    fare_amount    extra    mta_tax    tip_amount    tolls_amount    improvement_surcharge    total_amount  congestion_surcharge    airport_fee\n",
       "  0           1  2019-01-01 00:46:40     2019-01-01 00:53:20                      1              1.5             1  N                                151             239               1            7        0.5        0.5          1.65            0                         0.3            9.95  --                      --\n",
       "  1           1  2019-01-01 00:59:47     2019-01-01 01:18:59                      1              2.6             1  N                                239             246               1           14        0.5        0.5          1               0                         0.3           16.3   --                      --\n",
       "  2           2  2018-12-21 13:48:30     2018-12-21 13:52:40                      3              0               1  N                                236             236               1            4.5      0.5        0.5          0               0                         0.3            5.8   --                      --\n",
       "  3           2  2018-11-28 15:52:25     2018-11-28 15:55:45                      5              0               1  N                                193             193               2            3.5      0.5        0.5          0               0                         0.3            7.55  --                      --\n",
       "  4           2  2018-11-28 15:56:57     2018-11-28 15:58:33                      5              0               2  N                                193             193               2           52        0          0.5          0               0                         0.3           55.55  --                      --\n",
       "  5           2  2018-11-28 16:25:49     2018-11-28 16:28:26                      5              0               1  N                                193             193               2            3.5      0.5        0.5          0               5.76                      0.3           13.31  --                      --\n",
       "  6           2  2018-11-28 16:29:37     2018-11-28 16:33:43                      5              0               2  N                                193             193               2           52        0          0.5          0               0                         0.3           55.55  --                      --\n",
       "  7           1  2019-01-01 00:21:28     2019-01-01 00:28:37                      1              1.3             1  N                                163             229               1            6.5      0.5        0.5          1.25            0                         0.3            9.05  --                      --\n",
       "  8           1  2019-01-01 00:32:01     2019-01-01 00:45:39                      1              3.7             1  N                                229               7               1           13.5      0.5        0.5          3.7             0                         0.3           18.5   --                      --\n",
       "  9           1  2019-01-01 00:57:32     2019-01-01 01:09:32                      2              2.1             1  N                                141             234               1           10        0.5        0.5          1.7             0                         0.3           13     --                      --"
      ]
     },
     "execution_count": 6,
     "metadata": {},
     "output_type": "execute_result"
    }
   ],
   "source": [
    "df.head()"
   ]
  },
  {
   "cell_type": "code",
   "execution_count": 7,
   "id": "e0869ec9-7af1-495e-8915-69ca65e92184",
   "metadata": {},
   "outputs": [
    {
     "name": "stdout",
     "output_type": "stream",
     "text": [
      "groupby [----------------------------------------]  0.00% estimated time: unknown                 "
     ]
    },
    {
     "data": {
      "text/html": [
       "<pre style=\"white-space:pre;overflow-x:auto;line-height:normal;font-family:Menlo,'DejaVu Sans Mono',consolas,'Courier New',monospace\"><span style=\"color: #7fbfbf; text-decoration-color: #7fbfbf\">[03/04/23 14:00:00] </span><span style=\"color: #800000; text-decoration-color: #800000\">WARNING </span> <span style=\"color: #800080; text-decoration-color: #800080\">/opt/homebrew/Caskroom/miniforge/base/envs/paysim/lib/python3.9/</span><span style=\"color: #ff00ff; text-decoration-color: #ff00ff\">ast.py</span>:<span style=\"color: #008080; text-decoration-color: #008080; font-weight: bold\">4</span> <a href=\"file:///opt/homebrew/Caskroom/miniforge/base/envs/paysim/lib/python3.9/site-packages/astropy/logger.py\" target=\"_blank\"><span style=\"color: #7f7f7f; text-decoration-color: #7f7f7f\">logger.py</span></a><span style=\"color: #7f7f7f; text-decoration-color: #7f7f7f\">:</span><a href=\"file:///opt/homebrew/Caskroom/miniforge/base/envs/paysim/lib/python3.9/site-packages/astropy/logger.py#207\" target=\"_blank\"><span style=\"color: #7f7f7f; text-decoration-color: #7f7f7f\">207</span></a>\n",
       "<span style=\"color: #7fbfbf; text-decoration-color: #7fbfbf\">                    </span>         <span style=\"color: #008080; text-decoration-color: #008080; font-weight: bold\">07</span>: DeprecationWarning: visit_NameConstant is deprecated; add            <span style=\"color: #7f7f7f; text-decoration-color: #7f7f7f\">             </span>\n",
       "<span style=\"color: #7fbfbf; text-decoration-color: #7fbfbf\">                    </span>         visit_Constant                                                           <span style=\"color: #7f7f7f; text-decoration-color: #7f7f7f\">             </span>\n",
       "<span style=\"color: #7fbfbf; text-decoration-color: #7fbfbf\">                    </span>           return <span style=\"color: #800080; text-decoration-color: #800080; font-weight: bold\">visitor</span><span style=\"font-weight: bold\">(</span>node<span style=\"font-weight: bold\">)</span>                                                   <span style=\"color: #7f7f7f; text-decoration-color: #7f7f7f\">             </span>\n",
       "<span style=\"color: #7fbfbf; text-decoration-color: #7fbfbf\">                    </span>                                                                                  <span style=\"color: #7f7f7f; text-decoration-color: #7f7f7f\">             </span>\n",
       "</pre>\n"
      ],
      "text/plain": [
       "\u001b[2;36m[03/04/23 14:00:00]\u001b[0m\u001b[2;36m \u001b[0m\u001b[31mWARNING \u001b[0m \u001b[35m/opt/homebrew/Caskroom/miniforge/base/envs/paysim/lib/python3.9/\u001b[0m\u001b[95mast.py\u001b[0m:\u001b[1;36m4\u001b[0m \u001b]8;id=585335;file:///opt/homebrew/Caskroom/miniforge/base/envs/paysim/lib/python3.9/site-packages/astropy/logger.py\u001b\\\u001b[2mlogger.py\u001b[0m\u001b]8;;\u001b\\\u001b[2m:\u001b[0m\u001b]8;id=290884;file:///opt/homebrew/Caskroom/miniforge/base/envs/paysim/lib/python3.9/site-packages/astropy/logger.py#207\u001b\\\u001b[2m207\u001b[0m\u001b]8;;\u001b\\\n",
       "\u001b[2;36m                    \u001b[0m         \u001b[1;36m07\u001b[0m: DeprecationWarning: visit_NameConstant is deprecated; add            \u001b[2m             \u001b[0m\n",
       "\u001b[2;36m                    \u001b[0m         visit_Constant                                                           \u001b[2m             \u001b[0m\n",
       "\u001b[2;36m                    \u001b[0m           return \u001b[1;35mvisitor\u001b[0m\u001b[1m(\u001b[0mnode\u001b[1m)\u001b[0m                                                   \u001b[2m             \u001b[0m\n",
       "\u001b[2;36m                    \u001b[0m                                                                                  \u001b[2m             \u001b[0m\n"
      ]
     },
     "metadata": {},
     "output_type": "display_data"
    },
    {
     "name": "stdout",
     "output_type": "stream",
     "text": [
      "groupby [####################--------------------] 50.00% estimated time:     1.45s =  0.0m =  0.0h "
     ]
    },
    {
     "data": {
      "text/html": [
       "<pre style=\"white-space:pre;overflow-x:auto;line-height:normal;font-family:Menlo,'DejaVu Sans Mono',consolas,'Courier New',monospace\"><span style=\"color: #7fbfbf; text-decoration-color: #7fbfbf\">[03/04/23 14:00:02] </span><span style=\"color: #800000; text-decoration-color: #800000\">WARNING </span> <span style=\"color: #800080; text-decoration-color: #800080\">/opt/homebrew/Caskroom/miniforge/base/envs/paysim/lib/python3.9/</span><span style=\"color: #ff00ff; text-decoration-color: #ff00ff\">ast.py</span>:<span style=\"color: #008080; text-decoration-color: #008080; font-weight: bold\">4</span> <a href=\"file:///opt/homebrew/Caskroom/miniforge/base/envs/paysim/lib/python3.9/site-packages/astropy/logger.py\" target=\"_blank\"><span style=\"color: #7f7f7f; text-decoration-color: #7f7f7f\">logger.py</span></a><span style=\"color: #7f7f7f; text-decoration-color: #7f7f7f\">:</span><a href=\"file:///opt/homebrew/Caskroom/miniforge/base/envs/paysim/lib/python3.9/site-packages/astropy/logger.py#207\" target=\"_blank\"><span style=\"color: #7f7f7f; text-decoration-color: #7f7f7f\">207</span></a>\n",
       "<span style=\"color: #7fbfbf; text-decoration-color: #7fbfbf\">                    </span>         <span style=\"color: #008080; text-decoration-color: #008080; font-weight: bold\">07</span>: DeprecationWarning: visit_Num is deprecated; add visit_Constant      <span style=\"color: #7f7f7f; text-decoration-color: #7f7f7f\">             </span>\n",
       "<span style=\"color: #7fbfbf; text-decoration-color: #7fbfbf\">                    </span>           return <span style=\"color: #800080; text-decoration-color: #800080; font-weight: bold\">visitor</span><span style=\"font-weight: bold\">(</span>node<span style=\"font-weight: bold\">)</span>                                                   <span style=\"color: #7f7f7f; text-decoration-color: #7f7f7f\">             </span>\n",
       "<span style=\"color: #7fbfbf; text-decoration-color: #7fbfbf\">                    </span>                                                                                  <span style=\"color: #7f7f7f; text-decoration-color: #7f7f7f\">             </span>\n",
       "</pre>\n"
      ],
      "text/plain": [
       "\u001b[2;36m[03/04/23 14:00:02]\u001b[0m\u001b[2;36m \u001b[0m\u001b[31mWARNING \u001b[0m \u001b[35m/opt/homebrew/Caskroom/miniforge/base/envs/paysim/lib/python3.9/\u001b[0m\u001b[95mast.py\u001b[0m:\u001b[1;36m4\u001b[0m \u001b]8;id=803444;file:///opt/homebrew/Caskroom/miniforge/base/envs/paysim/lib/python3.9/site-packages/astropy/logger.py\u001b\\\u001b[2mlogger.py\u001b[0m\u001b]8;;\u001b\\\u001b[2m:\u001b[0m\u001b]8;id=708617;file:///opt/homebrew/Caskroom/miniforge/base/envs/paysim/lib/python3.9/site-packages/astropy/logger.py#207\u001b\\\u001b[2m207\u001b[0m\u001b]8;;\u001b\\\n",
       "\u001b[2;36m                    \u001b[0m         \u001b[1;36m07\u001b[0m: DeprecationWarning: visit_Num is deprecated; add visit_Constant      \u001b[2m             \u001b[0m\n",
       "\u001b[2;36m                    \u001b[0m           return \u001b[1;35mvisitor\u001b[0m\u001b[1m(\u001b[0mnode\u001b[1m)\u001b[0m                                                   \u001b[2m             \u001b[0m\n",
       "\u001b[2;36m                    \u001b[0m                                                                                  \u001b[2m             \u001b[0m\n"
      ]
     },
     "metadata": {},
     "output_type": "display_data"
    },
    {
     "name": "stdout",
     "output_type": "stream",
     "text": [
      "groupby [########################################] 100.00% elapsed time  :     5.20s =  0.1m =  0.0h\n",
      " CPU times: user 8.78 s, sys: 1.36 s, total: 10.1 s\n",
      "Wall time: 5.25 s\n"
     ]
    },
    {
     "data": {
      "text/html": [
       "<table>\n",
       "<thead>\n",
       "<tr><th>#                              </th><th>DOLocationID  </th><th>mean_fare         </th><th>count  </th><th>congestion         </th></tr>\n",
       "</thead>\n",
       "<tbody>\n",
       "<tr><td><i style='opacity: 0.6'>0</i>  </td><td>236           </td><td>9.535313307219667 </td><td>7540155</td><td>0.9300530294138516 </td></tr>\n",
       "<tr><td><i style='opacity: 0.6'>1</i>  </td><td>237           </td><td>9.245066620242751 </td><td>7102646</td><td>0.9409542584552292 </td></tr>\n",
       "<tr><td><i style='opacity: 0.6'>2</i>  </td><td>161           </td><td>10.944027083168406</td><td>6428273</td><td>0.9353692663643874 </td></tr>\n",
       "<tr><td><i style='opacity: 0.6'>3</i>  </td><td>170           </td><td>10.735887985246539</td><td>5376756</td><td>0.9321483065253473 </td></tr>\n",
       "<tr><td><i style='opacity: 0.6'>4</i>  </td><td>162           </td><td>11.09996795439159 </td><td>4948884</td><td>0.934476338503792  </td></tr>\n",
       "<tr><td>...                            </td><td>...           </td><td>...               </td><td>...    </td><td>...                </td></tr>\n",
       "<tr><td><i style='opacity: 0.6'>259</i></td><td>2             </td><td>40.195150214592275</td><td>233    </td><td>0.08583690987124463</td></tr>\n",
       "<tr><td><i style='opacity: 0.6'>260</i></td><td>105           </td><td>16.492748091603055</td><td>131    </td><td>0.7404580152671756 </td></tr>\n",
       "<tr><td><i style='opacity: 0.6'>261</i></td><td>199           </td><td>12.733333333333333</td><td>15     </td><td>0.26666666666666666</td></tr>\n",
       "<tr><td><i style='opacity: 0.6'>262</i></td><td>110           </td><td>63.9375           </td><td>8      </td><td>0.25               </td></tr>\n",
       "<tr><td><i style='opacity: 0.6'>263</i></td><td>104           </td><td>50.0              </td><td>1      </td><td>1.0                </td></tr>\n",
       "</tbody>\n",
       "</table>"
      ],
      "text/plain": [
       "#    DOLocationID    mean_fare           count    congestion\n",
       "0    236             9.535313307219667   7540155  0.9300530294138516\n",
       "1    237             9.245066620242751   7102646  0.9409542584552292\n",
       "2    161             10.944027083168406  6428273  0.9353692663643874\n",
       "3    170             10.735887985246539  5376756  0.9321483065253473\n",
       "4    162             11.09996795439159   4948884  0.934476338503792\n",
       "...  ...             ...                 ...      ...\n",
       "259  2               40.195150214592275  233      0.08583690987124463\n",
       "260  105             16.492748091603055  131      0.7404580152671756\n",
       "261  199             12.733333333333333  15       0.26666666666666666\n",
       "262  110             63.9375             8        0.25\n",
       "263  104             50.0                1        1.0"
      ]
     },
     "execution_count": 7,
     "metadata": {},
     "output_type": "execute_result"
    }
   ],
   "source": [
    "%%time\n",
    "\n",
    "df['is_congested'] = df.congestion_surcharge.fillna(0) > 0\n",
    "\n",
    "df.groupby(\n",
    "    'DOLocationID',\n",
    "    agg={\n",
    "        'mean_fare': vx.agg.mean('fare_amount'),\n",
    "        'count': vx.agg.count('*'),\n",
    "        'congestion': vx.agg.mean('is_congested')\n",
    "    },\n",
    "    progress=True\n",
    ").sort('count', ascending=False)"
   ]
  },
  {
   "cell_type": "code",
   "execution_count": 8,
   "id": "20741c3d-06f3-4288-83d0-fa4a9a690e25",
   "metadata": {},
   "outputs": [
    {
     "data": {
      "application/vnd.jupyter.widget-view+json": {
       "model_id": "30df51c6688542cd8baf0c7c2bfafa36",
       "version_major": 2,
       "version_minor": 0
      },
      "text/plain": [
       "Output()"
      ]
     },
     "metadata": {},
     "output_type": "display_data"
    },
    {
     "data": {
      "text/html": [
       "<pre style=\"white-space:pre;overflow-x:auto;line-height:normal;font-family:Menlo,'DejaVu Sans Mono',consolas,'Courier New',monospace\"></pre>\n"
      ],
      "text/plain": [
       "\u001b[?25l"
      ]
     },
     "metadata": {},
     "output_type": "display_data"
    },
    {
     "name": "stdout",
     "output_type": "stream",
     "text": [
      "groupby [########################################] 100.00% elapsed time  :     5.15s =  0.1m =  0.0h\n",
      " "
     ]
    },
    {
     "data": {
      "text/html": [
       "<pre style=\"white-space:pre;overflow-x:auto;line-height:normal;font-family:Menlo,'DejaVu Sans Mono',consolas,'Courier New',monospace\">\n",
       "</pre>\n"
      ],
      "text/plain": [
       "\n",
       "\u001b[?25h"
      ]
     },
     "metadata": {},
     "output_type": "display_data"
    },
    {
     "name": "stdout",
     "output_type": "stream",
     "text": [
      "CPU times: user 8.89 s, sys: 1.31 s, total: 10.2 s\n",
      "Wall time: 5.22 s\n"
     ]
    },
    {
     "data": {
      "text/html": [
       "<table>\n",
       "<thead>\n",
       "<tr><th>#                              </th><th>DOLocationID  </th><th>mean_fare         </th><th>count  </th><th>congestion         </th></tr>\n",
       "</thead>\n",
       "<tbody>\n",
       "<tr><td><i style='opacity: 0.6'>0</i>  </td><td>236           </td><td>9.535313307219795 </td><td>7540155</td><td>0.9300530294138516 </td></tr>\n",
       "<tr><td><i style='opacity: 0.6'>1</i>  </td><td>237           </td><td>9.24506662024279  </td><td>7102646</td><td>0.9409542584552292 </td></tr>\n",
       "<tr><td><i style='opacity: 0.6'>2</i>  </td><td>161           </td><td>10.944027083168478</td><td>6428273</td><td>0.9353692663643874 </td></tr>\n",
       "<tr><td><i style='opacity: 0.6'>3</i>  </td><td>170           </td><td>10.735887985246611</td><td>5376756</td><td>0.9321483065253473 </td></tr>\n",
       "<tr><td><i style='opacity: 0.6'>4</i>  </td><td>162           </td><td>11.099967954391609</td><td>4948884</td><td>0.934476338503792  </td></tr>\n",
       "<tr><td>...                            </td><td>...           </td><td>...               </td><td>...    </td><td>...                </td></tr>\n",
       "<tr><td><i style='opacity: 0.6'>259</i></td><td>2             </td><td>40.19515021459228 </td><td>233    </td><td>0.08583690987124463</td></tr>\n",
       "<tr><td><i style='opacity: 0.6'>260</i></td><td>105           </td><td>16.492748091603055</td><td>131    </td><td>0.7404580152671756 </td></tr>\n",
       "<tr><td><i style='opacity: 0.6'>261</i></td><td>199           </td><td>12.733333333333333</td><td>15     </td><td>0.26666666666666666</td></tr>\n",
       "<tr><td><i style='opacity: 0.6'>262</i></td><td>110           </td><td>63.9375           </td><td>8      </td><td>0.25               </td></tr>\n",
       "<tr><td><i style='opacity: 0.6'>263</i></td><td>104           </td><td>50.0              </td><td>1      </td><td>1.0                </td></tr>\n",
       "</tbody>\n",
       "</table>"
      ],
      "text/plain": [
       "#    DOLocationID    mean_fare           count    congestion\n",
       "0    236             9.535313307219795   7540155  0.9300530294138516\n",
       "1    237             9.24506662024279    7102646  0.9409542584552292\n",
       "2    161             10.944027083168478  6428273  0.9353692663643874\n",
       "3    170             10.735887985246611  5376756  0.9321483065253473\n",
       "4    162             11.099967954391609  4948884  0.934476338503792\n",
       "...  ...             ...                 ...      ...\n",
       "259  2               40.19515021459228   233      0.08583690987124463\n",
       "260  105             16.492748091603055  131      0.7404580152671756\n",
       "261  199             12.733333333333333  15       0.26666666666666666\n",
       "262  110             63.9375             8        0.25\n",
       "263  104             50.0                1        1.0"
      ]
     },
     "execution_count": 8,
     "metadata": {},
     "output_type": "execute_result"
    }
   ],
   "source": [
    "%%time\n",
    "\n",
    "with vx.progress.tree('rich'):\n",
    "    df['is_congested'] = df.congestion_surcharge.fillna(0) > 0\n",
    "\n",
    "    grouped = df.groupby(\n",
    "        'DOLocationID',\n",
    "        agg={\n",
    "            'mean_fare': vx.agg.mean('fare_amount'),\n",
    "            'count': vx.agg.count('*'),\n",
    "            'congestion': vx.agg.mean('is_congested')\n",
    "        },\n",
    "        progress=True\n",
    "    ).sort('count', ascending=False)\n",
    "    \n",
    "grouped"
   ]
  },
  {
   "cell_type": "code",
   "execution_count": null,
   "id": "f9cf5580-5315-4dfd-bb1c-0a17e8b020d7",
   "metadata": {},
   "outputs": [],
   "source": []
  }
 ],
 "metadata": {
  "kernelspec": {
   "display_name": "Kedro (paysim_fraud)",
   "language": "python",
   "name": "kedro_paysim_fraud"
  },
  "language_info": {
   "codemirror_mode": {
    "name": "ipython",
    "version": 3
   },
   "file_extension": ".py",
   "mimetype": "text/x-python",
   "name": "python",
   "nbconvert_exporter": "python",
   "pygments_lexer": "ipython3",
   "version": "3.9.16"
  }
 },
 "nbformat": 4,
 "nbformat_minor": 5
}
