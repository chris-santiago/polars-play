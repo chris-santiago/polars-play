{
 "cells": [
  {
   "cell_type": "code",
   "execution_count": 1,
   "id": "6e9cedd0-486e-4ae8-aab5-a46de7cf033d",
   "metadata": {},
   "outputs": [],
   "source": [
    "import vaex as vx"
   ]
  },
  {
   "cell_type": "code",
   "execution_count": 2,
   "id": "857438ce-51bf-4137-be6d-fa2384b5ce47",
   "metadata": {},
   "outputs": [],
   "source": [
    "DATA = './data/nyc-taxi/*.parquet'"
   ]
  },
  {
   "cell_type": "code",
   "execution_count": 3,
   "id": "08b87888-81a2-4437-8df0-65edf1646eba",
   "metadata": {},
   "outputs": [
    {
     "name": "stdout",
     "output_type": "stream",
     "text": [
      "CPU times: user 269 ms, sys: 78.1 ms, total: 347 ms\n",
      "Wall time: 428 ms\n"
     ]
    }
   ],
   "source": [
    "%%time\n",
    "\n",
    "df = vx.open(DATA)"
   ]
  },
  {
   "cell_type": "code",
   "execution_count": 4,
   "id": "61fa9de4-293a-4537-940a-dc2cf514e98d",
   "metadata": {},
   "outputs": [
    {
     "data": {
      "text/plain": [
       "['VendorID',\n",
       " 'tpep_pickup_datetime',\n",
       " 'tpep_dropoff_datetime',\n",
       " 'passenger_count',\n",
       " 'trip_distance',\n",
       " 'RatecodeID',\n",
       " 'store_and_fwd_flag',\n",
       " 'PULocationID',\n",
       " 'DOLocationID',\n",
       " 'payment_type',\n",
       " 'fare_amount',\n",
       " 'extra',\n",
       " 'mta_tax',\n",
       " 'tip_amount',\n",
       " 'tolls_amount',\n",
       " 'improvement_surcharge',\n",
       " 'total_amount',\n",
       " 'congestion_surcharge',\n",
       " 'airport_fee']"
      ]
     },
     "execution_count": 4,
     "metadata": {},
     "output_type": "execute_result"
    }
   ],
   "source": [
    "df.column_names"
   ]
  },
  {
   "cell_type": "code",
   "execution_count": 5,
   "id": "55867d2c-a0e0-4b41-bac6-2c7630cf6001",
   "metadata": {},
   "outputs": [
    {
     "data": {
      "text/plain": [
       "(91809949, 19)"
      ]
     },
     "execution_count": 5,
     "metadata": {},
     "output_type": "execute_result"
    }
   ],
   "source": [
    "df.shape"
   ]
  },
  {
   "cell_type": "code",
   "execution_count": 6,
   "id": "de5f8eb4-c4d2-47a7-a6c0-f8433f1bfada",
   "metadata": {},
   "outputs": [
    {
     "data": {
      "text/html": [
       "<table>\n",
       "<thead>\n",
       "<tr><th>#                            </th><th style=\"text-align: right;\">  VendorID</th><th>tpep_pickup_datetime  </th><th>tpep_dropoff_datetime  </th><th style=\"text-align: right;\">  passenger_count</th><th style=\"text-align: right;\">  trip_distance</th><th style=\"text-align: right;\">  RatecodeID</th><th>store_and_fwd_flag  </th><th style=\"text-align: right;\">  PULocationID</th><th style=\"text-align: right;\">  DOLocationID</th><th style=\"text-align: right;\">  payment_type</th><th style=\"text-align: right;\">  fare_amount</th><th style=\"text-align: right;\">  extra</th><th style=\"text-align: right;\">  mta_tax</th><th style=\"text-align: right;\">  tip_amount</th><th style=\"text-align: right;\">  tolls_amount</th><th style=\"text-align: right;\">  improvement_surcharge</th><th style=\"text-align: right;\">  total_amount</th><th style=\"text-align: right;\">  congestion_surcharge</th><th>airport_fee  </th></tr>\n",
       "</thead>\n",
       "<tbody>\n",
       "<tr><td><i style='opacity: 0.6'>0</i></td><td style=\"text-align: right;\">         1</td><td>2020-01-01 00:28:15   </td><td>2020-01-01 00:33:03    </td><td style=\"text-align: right;\">                1</td><td style=\"text-align: right;\">           1.2 </td><td style=\"text-align: right;\">           1</td><td>N                   </td><td style=\"text-align: right;\">           238</td><td style=\"text-align: right;\">           239</td><td style=\"text-align: right;\">             1</td><td style=\"text-align: right;\">         6   </td><td style=\"text-align: right;\">    3  </td><td style=\"text-align: right;\">      0.5</td><td style=\"text-align: right;\">        1.47</td><td style=\"text-align: right;\">             0</td><td style=\"text-align: right;\">                    0.3</td><td style=\"text-align: right;\">         11.27</td><td style=\"text-align: right;\">                   2.5</td><td>--           </td></tr>\n",
       "<tr><td><i style='opacity: 0.6'>1</i></td><td style=\"text-align: right;\">         1</td><td>2020-01-01 00:35:39   </td><td>2020-01-01 00:43:04    </td><td style=\"text-align: right;\">                1</td><td style=\"text-align: right;\">           1.2 </td><td style=\"text-align: right;\">           1</td><td>N                   </td><td style=\"text-align: right;\">           239</td><td style=\"text-align: right;\">           238</td><td style=\"text-align: right;\">             1</td><td style=\"text-align: right;\">         7   </td><td style=\"text-align: right;\">    3  </td><td style=\"text-align: right;\">      0.5</td><td style=\"text-align: right;\">        1.5 </td><td style=\"text-align: right;\">             0</td><td style=\"text-align: right;\">                    0.3</td><td style=\"text-align: right;\">         12.3 </td><td style=\"text-align: right;\">                   2.5</td><td>--           </td></tr>\n",
       "<tr><td><i style='opacity: 0.6'>2</i></td><td style=\"text-align: right;\">         1</td><td>2020-01-01 00:47:41   </td><td>2020-01-01 00:53:52    </td><td style=\"text-align: right;\">                1</td><td style=\"text-align: right;\">           0.6 </td><td style=\"text-align: right;\">           1</td><td>N                   </td><td style=\"text-align: right;\">           238</td><td style=\"text-align: right;\">           238</td><td style=\"text-align: right;\">             1</td><td style=\"text-align: right;\">         6   </td><td style=\"text-align: right;\">    3  </td><td style=\"text-align: right;\">      0.5</td><td style=\"text-align: right;\">        1   </td><td style=\"text-align: right;\">             0</td><td style=\"text-align: right;\">                    0.3</td><td style=\"text-align: right;\">         10.8 </td><td style=\"text-align: right;\">                   2.5</td><td>--           </td></tr>\n",
       "<tr><td><i style='opacity: 0.6'>3</i></td><td style=\"text-align: right;\">         1</td><td>2020-01-01 00:55:23   </td><td>2020-01-01 01:00:14    </td><td style=\"text-align: right;\">                1</td><td style=\"text-align: right;\">           0.8 </td><td style=\"text-align: right;\">           1</td><td>N                   </td><td style=\"text-align: right;\">           238</td><td style=\"text-align: right;\">           151</td><td style=\"text-align: right;\">             1</td><td style=\"text-align: right;\">         5.5 </td><td style=\"text-align: right;\">    0.5</td><td style=\"text-align: right;\">      0.5</td><td style=\"text-align: right;\">        1.36</td><td style=\"text-align: right;\">             0</td><td style=\"text-align: right;\">                    0.3</td><td style=\"text-align: right;\">          8.16</td><td style=\"text-align: right;\">                   0  </td><td>--           </td></tr>\n",
       "<tr><td><i style='opacity: 0.6'>4</i></td><td style=\"text-align: right;\">         2</td><td>2020-01-01 00:01:58   </td><td>2020-01-01 00:04:16    </td><td style=\"text-align: right;\">                1</td><td style=\"text-align: right;\">           0   </td><td style=\"text-align: right;\">           1</td><td>N                   </td><td style=\"text-align: right;\">           193</td><td style=\"text-align: right;\">           193</td><td style=\"text-align: right;\">             2</td><td style=\"text-align: right;\">         3.5 </td><td style=\"text-align: right;\">    0.5</td><td style=\"text-align: right;\">      0.5</td><td style=\"text-align: right;\">        0   </td><td style=\"text-align: right;\">             0</td><td style=\"text-align: right;\">                    0.3</td><td style=\"text-align: right;\">          4.8 </td><td style=\"text-align: right;\">                   0  </td><td>--           </td></tr>\n",
       "<tr><td><i style='opacity: 0.6'>5</i></td><td style=\"text-align: right;\">         2</td><td>2020-01-01 00:09:44   </td><td>2020-01-01 00:10:37    </td><td style=\"text-align: right;\">                1</td><td style=\"text-align: right;\">           0.03</td><td style=\"text-align: right;\">           1</td><td>N                   </td><td style=\"text-align: right;\">             7</td><td style=\"text-align: right;\">           193</td><td style=\"text-align: right;\">             2</td><td style=\"text-align: right;\">         2.5 </td><td style=\"text-align: right;\">    0.5</td><td style=\"text-align: right;\">      0.5</td><td style=\"text-align: right;\">        0   </td><td style=\"text-align: right;\">             0</td><td style=\"text-align: right;\">                    0.3</td><td style=\"text-align: right;\">          3.8 </td><td style=\"text-align: right;\">                   0  </td><td>--           </td></tr>\n",
       "<tr><td><i style='opacity: 0.6'>6</i></td><td style=\"text-align: right;\">         2</td><td>2020-01-01 00:39:25   </td><td>2020-01-01 00:39:29    </td><td style=\"text-align: right;\">                1</td><td style=\"text-align: right;\">           0   </td><td style=\"text-align: right;\">           1</td><td>N                   </td><td style=\"text-align: right;\">           193</td><td style=\"text-align: right;\">           193</td><td style=\"text-align: right;\">             1</td><td style=\"text-align: right;\">         2.5 </td><td style=\"text-align: right;\">    0.5</td><td style=\"text-align: right;\">      0.5</td><td style=\"text-align: right;\">        0.01</td><td style=\"text-align: right;\">             0</td><td style=\"text-align: right;\">                    0.3</td><td style=\"text-align: right;\">          3.81</td><td style=\"text-align: right;\">                   0  </td><td>--           </td></tr>\n",
       "<tr><td><i style='opacity: 0.6'>7</i></td><td style=\"text-align: right;\">         2</td><td>2019-12-18 15:27:49   </td><td>2019-12-18 15:28:59    </td><td style=\"text-align: right;\">                1</td><td style=\"text-align: right;\">           0   </td><td style=\"text-align: right;\">           5</td><td>N                   </td><td style=\"text-align: right;\">           193</td><td style=\"text-align: right;\">           193</td><td style=\"text-align: right;\">             1</td><td style=\"text-align: right;\">         0.01</td><td style=\"text-align: right;\">    0  </td><td style=\"text-align: right;\">      0  </td><td style=\"text-align: right;\">        0   </td><td style=\"text-align: right;\">             0</td><td style=\"text-align: right;\">                    0.3</td><td style=\"text-align: right;\">          2.81</td><td style=\"text-align: right;\">                   2.5</td><td>--           </td></tr>\n",
       "<tr><td><i style='opacity: 0.6'>8</i></td><td style=\"text-align: right;\">         2</td><td>2019-12-18 15:30:35   </td><td>2019-12-18 15:31:35    </td><td style=\"text-align: right;\">                4</td><td style=\"text-align: right;\">           0   </td><td style=\"text-align: right;\">           1</td><td>N                   </td><td style=\"text-align: right;\">           193</td><td style=\"text-align: right;\">           193</td><td style=\"text-align: right;\">             1</td><td style=\"text-align: right;\">         2.5 </td><td style=\"text-align: right;\">    0.5</td><td style=\"text-align: right;\">      0.5</td><td style=\"text-align: right;\">        0   </td><td style=\"text-align: right;\">             0</td><td style=\"text-align: right;\">                    0.3</td><td style=\"text-align: right;\">          6.3 </td><td style=\"text-align: right;\">                   2.5</td><td>--           </td></tr>\n",
       "<tr><td><i style='opacity: 0.6'>9</i></td><td style=\"text-align: right;\">         1</td><td>2020-01-01 00:29:01   </td><td>2020-01-01 00:40:28    </td><td style=\"text-align: right;\">                2</td><td style=\"text-align: right;\">           0.7 </td><td style=\"text-align: right;\">           1</td><td>N                   </td><td style=\"text-align: right;\">           246</td><td style=\"text-align: right;\">            48</td><td style=\"text-align: right;\">             1</td><td style=\"text-align: right;\">         8   </td><td style=\"text-align: right;\">    3  </td><td style=\"text-align: right;\">      0.5</td><td style=\"text-align: right;\">        2.35</td><td style=\"text-align: right;\">             0</td><td style=\"text-align: right;\">                    0.3</td><td style=\"text-align: right;\">         14.15</td><td style=\"text-align: right;\">                   2.5</td><td>--           </td></tr>\n",
       "</tbody>\n",
       "</table>"
      ],
      "text/plain": [
       "  #    VendorID  tpep_pickup_datetime    tpep_dropoff_datetime      passenger_count    trip_distance    RatecodeID  store_and_fwd_flag      PULocationID    DOLocationID    payment_type    fare_amount    extra    mta_tax    tip_amount    tolls_amount    improvement_surcharge    total_amount    congestion_surcharge  airport_fee\n",
       "  0           1  2020-01-01 00:28:15     2020-01-01 00:33:03                      1             1.2              1  N                                238             239               1           6         3          0.5          1.47               0                      0.3           11.27                     2.5  --\n",
       "  1           1  2020-01-01 00:35:39     2020-01-01 00:43:04                      1             1.2              1  N                                239             238               1           7         3          0.5          1.5                0                      0.3           12.3                      2.5  --\n",
       "  2           1  2020-01-01 00:47:41     2020-01-01 00:53:52                      1             0.6              1  N                                238             238               1           6         3          0.5          1                  0                      0.3           10.8                      2.5  --\n",
       "  3           1  2020-01-01 00:55:23     2020-01-01 01:00:14                      1             0.8              1  N                                238             151               1           5.5       0.5        0.5          1.36               0                      0.3            8.16                     0    --\n",
       "  4           2  2020-01-01 00:01:58     2020-01-01 00:04:16                      1             0                1  N                                193             193               2           3.5       0.5        0.5          0                  0                      0.3            4.8                      0    --\n",
       "  5           2  2020-01-01 00:09:44     2020-01-01 00:10:37                      1             0.03             1  N                                  7             193               2           2.5       0.5        0.5          0                  0                      0.3            3.8                      0    --\n",
       "  6           2  2020-01-01 00:39:25     2020-01-01 00:39:29                      1             0                1  N                                193             193               1           2.5       0.5        0.5          0.01               0                      0.3            3.81                     0    --\n",
       "  7           2  2019-12-18 15:27:49     2019-12-18 15:28:59                      1             0                5  N                                193             193               1           0.01      0          0            0                  0                      0.3            2.81                     2.5  --\n",
       "  8           2  2019-12-18 15:30:35     2019-12-18 15:31:35                      4             0                1  N                                193             193               1           2.5       0.5        0.5          0                  0                      0.3            6.3                      2.5  --\n",
       "  9           1  2020-01-01 00:29:01     2020-01-01 00:40:28                      2             0.7              1  N                                246              48               1           8         3          0.5          2.35               0                      0.3           14.15                     2.5  --"
      ]
     },
     "execution_count": 6,
     "metadata": {},
     "output_type": "execute_result"
    }
   ],
   "source": [
    "df.head()"
   ]
  },
  {
   "cell_type": "code",
   "execution_count": 7,
   "id": "e0869ec9-7af1-495e-8915-69ca65e92184",
   "metadata": {},
   "outputs": [
    {
     "name": "stdout",
     "output_type": "stream",
     "text": [
      "groupby [########################################] 100.00% elapsed time  :     2.77s =  0.0m =  0.0h\n",
      " CPU times: user 4.31 s, sys: 727 ms, total: 5.03 s\n",
      "Wall time: 2.83 s\n"
     ]
    },
    {
     "data": {
      "text/html": [
       "<table>\n",
       "<thead>\n",
       "<tr><th>#                              </th><th>DOLocationID  </th><th>mean_fare         </th><th>count  </th><th>congestion        </th></tr>\n",
       "</thead>\n",
       "<tbody>\n",
       "<tr><td><i style='opacity: 0.6'>0</i>  </td><td>236           </td><td>9.600090780733105 </td><td>4109242</td><td>0.9663884482831627</td></tr>\n",
       "<tr><td><i style='opacity: 0.6'>1</i>  </td><td>237           </td><td>9.118917058205195 </td><td>3845516</td><td>0.97569610944279  </td></tr>\n",
       "<tr><td><i style='opacity: 0.6'>2</i>  </td><td>161           </td><td>10.634795718163923</td><td>3165651</td><td>0.9714930673027443</td></tr>\n",
       "<tr><td><i style='opacity: 0.6'>3</i>  </td><td>170           </td><td>10.632018730016933</td><td>2730697</td><td>0.9673478968922586</td></tr>\n",
       "<tr><td><i style='opacity: 0.6'>4</i>  </td><td>141           </td><td>9.888821380453033 </td><td>2567317</td><td>0.9705470730727838</td></tr>\n",
       "<tr><td>...                            </td><td>...           </td><td>...               </td><td>...    </td><td>...               </td></tr>\n",
       "<tr><td><i style='opacity: 0.6'>259</i></td><td>2             </td><td>42.227734375000004</td><td>128    </td><td>0.0546875         </td></tr>\n",
       "<tr><td><i style='opacity: 0.6'>260</i></td><td>105           </td><td>18.675581395348836</td><td>43     </td><td>0.7674418604651163</td></tr>\n",
       "<tr><td><i style='opacity: 0.6'>261</i></td><td>110           </td><td>80.33333333333333 </td><td>3      </td><td>0.0               </td></tr>\n",
       "<tr><td><i style='opacity: 0.6'>262</i></td><td>199           </td><td>0.0               </td><td>2      </td><td>0.0               </td></tr>\n",
       "<tr><td><i style='opacity: 0.6'>263</i></td><td>104           </td><td>50.0              </td><td>1      </td><td>1.0               </td></tr>\n",
       "</tbody>\n",
       "</table>"
      ],
      "text/plain": [
       "#    DOLocationID    mean_fare           count    congestion\n",
       "0    236             9.600090780733105   4109242  0.9663884482831627\n",
       "1    237             9.118917058205195   3845516  0.97569610944279\n",
       "2    161             10.634795718163923  3165651  0.9714930673027443\n",
       "3    170             10.632018730016933  2730697  0.9673478968922586\n",
       "4    141             9.888821380453033   2567317  0.9705470730727838\n",
       "...  ...             ...                 ...      ...\n",
       "259  2               42.227734375000004  128      0.0546875\n",
       "260  105             18.675581395348836  43       0.7674418604651163\n",
       "261  110             80.33333333333333   3        0.0\n",
       "262  199             0.0                 2        0.0\n",
       "263  104             50.0                1        1.0"
      ]
     },
     "execution_count": 7,
     "metadata": {},
     "output_type": "execute_result"
    }
   ],
   "source": [
    "%%time\n",
    "\n",
    "df['is_congested'] = df.congestion_surcharge.fillna(0) > 0\n",
    "\n",
    "df.groupby(\n",
    "    'DOLocationID',\n",
    "    agg={\n",
    "        'mean_fare': vx.agg.mean('fare_amount'),\n",
    "        'count': vx.agg.count('*'),\n",
    "        'congestion': vx.agg.mean('is_congested')\n",
    "    },\n",
    "    progress=True\n",
    ").sort('count', ascending=False)"
   ]
  },
  {
   "cell_type": "code",
   "execution_count": 8,
   "id": "20741c3d-06f3-4288-83d0-fa4a9a690e25",
   "metadata": {},
   "outputs": [
    {
     "data": {
      "text/html": [
       "<pre style=\"white-space:pre;overflow-x:auto;line-height:normal;font-family:Menlo,'DejaVu Sans Mono',consolas,'Courier New',monospace\">\r",
       "\u001b[2K  <span style=\"color: #800000; text-decoration-color: #800000\">vaex                                         </span> <span style=\"color: #729c1f; text-decoration-color: #729c1f\">━━━━━━━━━━━━━━━━━━━━━━━━━━━━━━━━━━━━━━━━</span> <span style=\"color: #800080; text-decoration-color: #800080\">100%</span> <span style=\"color: #808000; text-decoration-color: #808000\">00.00s   </span>  \n",
       "  <span style=\"color: #800000; text-decoration-color: #800000\">vaex                                         </span> <span style=\"color: #729c1f; text-decoration-color: #729c1f\">━━━━━━━━━━━━━━━━━━━━━━━━━━━━━━━━━━━━━━━━</span> <span style=\"color: #800080; text-decoration-color: #800080\">100%</span> <span style=\"color: #808000; text-decoration-color: #808000\">00.00s   </span>  </pre>\n"
      ],
      "text/plain": [
       "\r",
       "\u001b[2K  \u001b[31mvaex                                         \u001b[0m \u001b[38;2;114;156;31m━━━━━━━━━━━━━━━━━━━━━━━━━━━━━━━━━━━━━━━━\u001b[0m \u001b[35m100%\u001b[0m \u001b[33m00.00s   \u001b[0m  \n",
       "  \u001b[31mvaex                                         \u001b[0m \u001b[38;2;114;156;31m━━━━━━━━━━━━━━━━━━━━━━━━━━━━━━━━━━━━━━━━\u001b[0m \u001b[35m100%\u001b[0m \u001b[33m00.00s   \u001b[0m  "
      ]
     },
     "metadata": {},
     "output_type": "display_data"
    },
    {
     "data": {
      "text/html": [
       "<pre style=\"white-space:pre;overflow-x:auto;line-height:normal;font-family:Menlo,'DejaVu Sans Mono',consolas,'Courier New',monospace\">\n",
       "</pre>\n"
      ],
      "text/plain": [
       "\n",
       "\u001b[?25h"
      ]
     },
     "metadata": {},
     "output_type": "display_data"
    },
    {
     "name": "stdout",
     "output_type": "stream",
     "text": [
      "CPU times: user 4.36 s, sys: 684 ms, total: 5.05 s\n",
      "Wall time: 2.77 s\n"
     ]
    },
    {
     "data": {
      "text/html": [
       "<table>\n",
       "<thead>\n",
       "<tr><th>#                              </th><th>DOLocationID  </th><th>mean_fare         </th><th>count  </th><th>congestion        </th></tr>\n",
       "</thead>\n",
       "<tbody>\n",
       "<tr><td><i style='opacity: 0.6'>0</i>  </td><td>236           </td><td>9.600090780733096 </td><td>4109242</td><td>0.9663884482831627</td></tr>\n",
       "<tr><td><i style='opacity: 0.6'>1</i>  </td><td>237           </td><td>9.118917058205197 </td><td>3845516</td><td>0.97569610944279  </td></tr>\n",
       "<tr><td><i style='opacity: 0.6'>2</i>  </td><td>161           </td><td>10.634795718163858</td><td>3165651</td><td>0.9714930673027443</td></tr>\n",
       "<tr><td><i style='opacity: 0.6'>3</i>  </td><td>170           </td><td>10.632018730016934</td><td>2730697</td><td>0.9673478968922586</td></tr>\n",
       "<tr><td><i style='opacity: 0.6'>4</i>  </td><td>141           </td><td>9.888821380453013 </td><td>2567317</td><td>0.9705470730727838</td></tr>\n",
       "<tr><td>...                            </td><td>...           </td><td>...               </td><td>...    </td><td>...               </td></tr>\n",
       "<tr><td><i style='opacity: 0.6'>259</i></td><td>2             </td><td>42.227734375000004</td><td>128    </td><td>0.0546875         </td></tr>\n",
       "<tr><td><i style='opacity: 0.6'>260</i></td><td>105           </td><td>18.675581395348836</td><td>43     </td><td>0.7674418604651163</td></tr>\n",
       "<tr><td><i style='opacity: 0.6'>261</i></td><td>110           </td><td>80.33333333333333 </td><td>3      </td><td>0.0               </td></tr>\n",
       "<tr><td><i style='opacity: 0.6'>262</i></td><td>199           </td><td>0.0               </td><td>2      </td><td>0.0               </td></tr>\n",
       "<tr><td><i style='opacity: 0.6'>263</i></td><td>104           </td><td>50.0              </td><td>1      </td><td>1.0               </td></tr>\n",
       "</tbody>\n",
       "</table>"
      ],
      "text/plain": [
       "#    DOLocationID    mean_fare           count    congestion\n",
       "0    236             9.600090780733096   4109242  0.9663884482831627\n",
       "1    237             9.118917058205197   3845516  0.97569610944279\n",
       "2    161             10.634795718163858  3165651  0.9714930673027443\n",
       "3    170             10.632018730016934  2730697  0.9673478968922586\n",
       "4    141             9.888821380453013   2567317  0.9705470730727838\n",
       "...  ...             ...                 ...      ...\n",
       "259  2               42.227734375000004  128      0.0546875\n",
       "260  105             18.675581395348836  43       0.7674418604651163\n",
       "261  110             80.33333333333333   3        0.0\n",
       "262  199             0.0                 2        0.0\n",
       "263  104             50.0                1        1.0"
      ]
     },
     "execution_count": 8,
     "metadata": {},
     "output_type": "execute_result"
    }
   ],
   "source": [
    "%%time\n",
    "\n",
    "with vx.progress.tree('rich'):\n",
    "    df['is_congested'] = df.congestion_surcharge.fillna(0) > 0\n",
    "\n",
    "    grouped = df.groupby(\n",
    "        'DOLocationID',\n",
    "        agg={\n",
    "            'mean_fare': vx.agg.mean('fare_amount'),\n",
    "            'count': vx.agg.count('*'),\n",
    "            'congestion': vx.agg.mean('is_congested')\n",
    "        },\n",
    "        progress=True\n",
    "    ).sort('count', ascending=False)\n",
    "    \n",
    "grouped"
   ]
  },
  {
   "cell_type": "code",
   "execution_count": null,
   "id": "f9cf5580-5315-4dfd-bb1c-0a17e8b020d7",
   "metadata": {},
   "outputs": [],
   "source": []
  }
 ],
 "metadata": {
  "kernelspec": {
   "display_name": "Python 3 (ipykernel)",
   "language": "python",
   "name": "python3"
  },
  "language_info": {
   "codemirror_mode": {
    "name": "ipython",
    "version": 3
   },
   "file_extension": ".py",
   "mimetype": "text/x-python",
   "name": "python",
   "nbconvert_exporter": "python",
   "pygments_lexer": "ipython3",
   "version": "3.10.9"
  }
 },
 "nbformat": 4,
 "nbformat_minor": 5
}
